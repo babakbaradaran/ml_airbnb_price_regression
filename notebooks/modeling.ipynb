{
 "cells": [
  {
   "cell_type": "markdown",
   "metadata": {},
   "source": [
    "### Step 1 – Load Data"
   ]
  },
  {
   "cell_type": "code",
   "execution_count": 59,
   "metadata": {},
   "outputs": [
    {
     "name": "stdout",
     "output_type": "stream",
     "text": [
      "Current working directory: c:\\Users\\Babak.Baradaranhezav\\ml-projects\\ml_airbnb_price_regression\n"
     ]
    }
   ],
   "source": [
    "import os\n",
    "\n",
    "print(\"Current working directory:\", os.getcwd())"
   ]
  },
  {
   "cell_type": "code",
   "execution_count": 60,
   "metadata": {},
   "outputs": [
    {
     "name": "stdout",
     "output_type": "stream",
     "text": [
      "Already in repo root: c:\\Users\\Babak.Baradaranhezav\\ml-projects\\ml_airbnb_price_regression\n"
     ]
    }
   ],
   "source": [
    "from pathlib import Path\n",
    "import os\n",
    "\n",
    "# Set working directory only if not already set\n",
    "cwd = Path.cwd()\n",
    "if not (cwd / \".git\").exists():\n",
    "    for parent in cwd.parents:\n",
    "        if (parent / \".git\").exists():\n",
    "            os.chdir(parent)\n",
    "            print(\"Working directory set to repo root:\", parent)\n",
    "            break\n",
    "    else:\n",
    "        raise FileNotFoundError(\"Could not find .git repo root. Are you inside the correct project folder?\")\n",
    "else:\n",
    "    print(\"Already in repo root:\", cwd)\n"
   ]
  },
  {
   "cell_type": "code",
   "execution_count": 61,
   "metadata": {},
   "outputs": [
    {
     "name": "stdout",
     "output_type": "stream",
     "text": [
      "Loaded data with shape: (5090, 86)\n"
     ]
    },
    {
     "data": {
      "application/vnd.microsoft.datawrangler.viewer.v0+json": {
       "columns": [
        {
         "name": "index",
         "rawType": "int64",
         "type": "integer"
        },
        {
         "name": "id",
         "rawType": "int64",
         "type": "integer"
        },
        {
         "name": "listing_url",
         "rawType": "object",
         "type": "string"
        },
        {
         "name": "scrape_id",
         "rawType": "float64",
         "type": "float"
        },
        {
         "name": "last_scraped",
         "rawType": "object",
         "type": "string"
        },
        {
         "name": "source",
         "rawType": "object",
         "type": "string"
        },
        {
         "name": "name",
         "rawType": "object",
         "type": "string"
        },
        {
         "name": "description",
         "rawType": "object",
         "type": "unknown"
        },
        {
         "name": "neighborhood_overview",
         "rawType": "object",
         "type": "unknown"
        },
        {
         "name": "picture_url",
         "rawType": "object",
         "type": "string"
        },
        {
         "name": "host_id",
         "rawType": "int64",
         "type": "integer"
        },
        {
         "name": "host_url",
         "rawType": "object",
         "type": "string"
        },
        {
         "name": "host_name",
         "rawType": "object",
         "type": "string"
        },
        {
         "name": "host_since",
         "rawType": "object",
         "type": "string"
        },
        {
         "name": "host_location",
         "rawType": "object",
         "type": "unknown"
        },
        {
         "name": "host_about",
         "rawType": "object",
         "type": "unknown"
        },
        {
         "name": "host_response_time",
         "rawType": "object",
         "type": "unknown"
        },
        {
         "name": "host_response_rate",
         "rawType": "object",
         "type": "unknown"
        },
        {
         "name": "host_acceptance_rate",
         "rawType": "object",
         "type": "unknown"
        },
        {
         "name": "host_is_superhost",
         "rawType": "object",
         "type": "string"
        },
        {
         "name": "host_thumbnail_url",
         "rawType": "object",
         "type": "string"
        },
        {
         "name": "host_picture_url",
         "rawType": "object",
         "type": "string"
        },
        {
         "name": "host_neighbourhood",
         "rawType": "object",
         "type": "string"
        },
        {
         "name": "host_listings_count",
         "rawType": "int64",
         "type": "integer"
        },
        {
         "name": "host_total_listings_count",
         "rawType": "int64",
         "type": "integer"
        },
        {
         "name": "host_verifications",
         "rawType": "object",
         "type": "string"
        },
        {
         "name": "host_has_profile_pic",
         "rawType": "object",
         "type": "string"
        },
        {
         "name": "host_identity_verified",
         "rawType": "object",
         "type": "string"
        },
        {
         "name": "neighbourhood",
         "rawType": "object",
         "type": "unknown"
        },
        {
         "name": "neighbourhood_cleansed",
         "rawType": "object",
         "type": "string"
        },
        {
         "name": "neighbourhood_group_cleansed",
         "rawType": "float64",
         "type": "float"
        },
        {
         "name": "latitude",
         "rawType": "float64",
         "type": "float"
        },
        {
         "name": "longitude",
         "rawType": "float64",
         "type": "float"
        },
        {
         "name": "property_type",
         "rawType": "object",
         "type": "string"
        },
        {
         "name": "room_type",
         "rawType": "object",
         "type": "string"
        },
        {
         "name": "accommodates",
         "rawType": "int64",
         "type": "integer"
        },
        {
         "name": "bathrooms",
         "rawType": "float64",
         "type": "float"
        },
        {
         "name": "bathrooms_text",
         "rawType": "object",
         "type": "string"
        },
        {
         "name": "bedrooms",
         "rawType": "float64",
         "type": "float"
        },
        {
         "name": "beds",
         "rawType": "float64",
         "type": "float"
        },
        {
         "name": "amenities",
         "rawType": "object",
         "type": "string"
        },
        {
         "name": "price",
         "rawType": "float64",
         "type": "float"
        },
        {
         "name": "minimum_nights",
         "rawType": "int64",
         "type": "integer"
        },
        {
         "name": "maximum_nights",
         "rawType": "int64",
         "type": "integer"
        },
        {
         "name": "minimum_minimum_nights",
         "rawType": "int64",
         "type": "integer"
        },
        {
         "name": "maximum_minimum_nights",
         "rawType": "int64",
         "type": "integer"
        },
        {
         "name": "minimum_maximum_nights",
         "rawType": "int64",
         "type": "integer"
        },
        {
         "name": "maximum_maximum_nights",
         "rawType": "int64",
         "type": "integer"
        },
        {
         "name": "minimum_nights_avg_ntm",
         "rawType": "float64",
         "type": "float"
        },
        {
         "name": "maximum_nights_avg_ntm",
         "rawType": "float64",
         "type": "float"
        },
        {
         "name": "calendar_updated",
         "rawType": "float64",
         "type": "float"
        },
        {
         "name": "has_availability",
         "rawType": "object",
         "type": "string"
        },
        {
         "name": "availability_30",
         "rawType": "int64",
         "type": "integer"
        },
        {
         "name": "availability_60",
         "rawType": "int64",
         "type": "integer"
        },
        {
         "name": "availability_90",
         "rawType": "int64",
         "type": "integer"
        },
        {
         "name": "availability_365",
         "rawType": "int64",
         "type": "integer"
        },
        {
         "name": "calendar_last_scraped",
         "rawType": "object",
         "type": "string"
        },
        {
         "name": "number_of_reviews",
         "rawType": "int64",
         "type": "integer"
        },
        {
         "name": "number_of_reviews_ltm",
         "rawType": "int64",
         "type": "integer"
        },
        {
         "name": "number_of_reviews_l30d",
         "rawType": "int64",
         "type": "integer"
        },
        {
         "name": "availability_eoy",
         "rawType": "int64",
         "type": "integer"
        },
        {
         "name": "number_of_reviews_ly",
         "rawType": "int64",
         "type": "integer"
        },
        {
         "name": "estimated_occupancy_l365d",
         "rawType": "int64",
         "type": "integer"
        },
        {
         "name": "estimated_revenue_l365d",
         "rawType": "float64",
         "type": "float"
        },
        {
         "name": "first_review",
         "rawType": "object",
         "type": "string"
        },
        {
         "name": "last_review",
         "rawType": "object",
         "type": "string"
        },
        {
         "name": "review_scores_rating",
         "rawType": "float64",
         "type": "float"
        },
        {
         "name": "review_scores_accuracy",
         "rawType": "float64",
         "type": "float"
        },
        {
         "name": "review_scores_cleanliness",
         "rawType": "float64",
         "type": "float"
        },
        {
         "name": "review_scores_checkin",
         "rawType": "float64",
         "type": "float"
        },
        {
         "name": "review_scores_communication",
         "rawType": "float64",
         "type": "float"
        },
        {
         "name": "review_scores_location",
         "rawType": "float64",
         "type": "float"
        },
        {
         "name": "review_scores_value",
         "rawType": "float64",
         "type": "float"
        },
        {
         "name": "license",
         "rawType": "object",
         "type": "unknown"
        },
        {
         "name": "instant_bookable",
         "rawType": "object",
         "type": "string"
        },
        {
         "name": "calculated_host_listings_count",
         "rawType": "int64",
         "type": "integer"
        },
        {
         "name": "calculated_host_listings_count_entire_homes",
         "rawType": "int64",
         "type": "integer"
        },
        {
         "name": "calculated_host_listings_count_private_rooms",
         "rawType": "int64",
         "type": "integer"
        },
        {
         "name": "calculated_host_listings_count_shared_rooms",
         "rawType": "int64",
         "type": "integer"
        },
        {
         "name": "reviews_per_month",
         "rawType": "float64",
         "type": "float"
        },
        {
         "name": "price_log",
         "rawType": "float64",
         "type": "float"
        },
        {
         "name": "host_age_days",
         "rawType": "int64",
         "type": "integer"
        },
        {
         "name": "days_since_last_review",
         "rawType": "float64",
         "type": "float"
        },
        {
         "name": "room_type_Hotel room",
         "rawType": "bool",
         "type": "boolean"
        },
        {
         "name": "room_type_Private room",
         "rawType": "bool",
         "type": "boolean"
        },
        {
         "name": "room_type_Shared room",
         "rawType": "bool",
         "type": "boolean"
        },
        {
         "name": "avg_review_score",
         "rawType": "float64",
         "type": "float"
        }
       ],
       "ref": "1120afe6-bf27-4cf3-86fd-79ffa8f0d032",
       "rows": [
        [
         "0",
         "13188",
         "https://www.airbnb.com/rooms/13188",
         "20250600000000.0",
         "6/25/2025",
         "city scrape",
         "Garden level studio in ideal loc.",
         "Garden level studio suite with garden patio - in a trendy and very central area of Vancouver. Located 2 blocks from King Edward Station on CanadaLine rapid transit link between YVR - downtown. Comfortable, cozy and bright! Close to Queen Elizabeth Park and Cambie/Main Street neighborhood.<br />There is a Queen bed in the suite (ideal space for a couple) plus a daybed which, when expanded out, sleeps 2 more. Fireplace/ bathroom with underfloor heating. Kitchenette/appliances for easy self-catering.",
         "The uber hip Main street area is a short walk of 6 minutes to the east.  Dozens of dining options.  Great supermarkets, butcher ,cafe, pub, tiki lounge, ethnic restaurants of all sorts.  Sprinkled with antique stores and retro clothing stores.  To the West, just down the hill from the Canada Line station at King Edward is Cambie Village, theatre, flamenco dancing, fine dining, ice cream and more.",
         "https://a0.muscache.com/pictures/8408188/e1af63e4_original.jpg",
         "51466",
         "https://www.airbnb.com/users/show/51466",
         "Emma",
         "2009-11-04",
         "Vancouver, Canada",
         "I love to travel with my family in comfort and enjoy the ethos and community spirit of AirBNB. I also host on AirBNB so travelers can enjoy staying with us in Vancouver!\nBon Voyage !!",
         "within an hour",
         "100%",
         "100%",
         "t",
         "https://a0.muscache.com/im/pictures/user/User/original/484b2335-be00-413e-bab2-f82fe48361c0.jpeg?aki_policy=profile_small",
         "https://a0.muscache.com/im/pictures/user/User/original/484b2335-be00-413e-bab2-f82fe48361c0.jpeg?aki_policy=profile_x_medium",
         "Riley Park",
         "1",
         "3",
         "['email', 'phone']",
         "t",
         "t",
         "Neighborhood highlights",
         "Riley Park",
         null,
         "49.24773",
         "-123.10509",
         "Entire guest suite",
         "Entire home/apt",
         "4",
         "1.0",
         "1 bath",
         "0.0",
         "2.0",
         "[\"Clothing storage: closet\", \"Wine glasses\", \"Free street parking\", \"Private patio or balcony\", \"Indoor fireplace\", \"Portable fans\", \"Microwave\", \"Cooking basics\", \"Private backyard \\u2013 Not fully fenced\", \"Dishes and silverware\", \"Long term stays allowed\", \"Shower gel\", \"Coffee maker: french press, Nespresso\", \"Folding or convertible high chair\", \"Essentials\", \"EV charger\", \"Heating\", \"Iron\", \"Blender\", \"Conditioner\", \"Washer\", \"TV with standard cable\", \"Crib\", \"Hangers\", \"Drying rack for clothing\", \"Mini fridge\", \"Private entrance\", \"Luggage dropoff allowed\", \"Body soap\", \"Rice maker\", \"Lockbox\", \"Cleaning products\", \"Bed linens\", \"Self check-in\", \"Bathtub\", \"Kitchenette\", \"Hot water\", \"Pack \\u2019n play/Travel crib\", \"Dryer\", \"Sound system\", \"Fire extinguisher\", \"Room-darkening shades\", \"Outdoor furniture\", \"Freezer\", \"Carbon monoxide alarm\", \"Refrigerator\", \"Wifi\", \"Coffee\", \"Outdoor dining area\", \"Laundromat nearby\", \"Smoke alarm\", \"Ethernet connection\", \"BBQ grill\", \"Shampoo\", \"Extra pillows and blankets\", \"Toaster\", \"Hair dryer\", \"Hot water kettle\"]",
         "136.0",
         "2",
         "180",
         "1",
         "2",
         "180",
         "180",
         "2.0",
         "180.0",
         null,
         "t",
         "3",
         "7",
         "14",
         "192",
         "6/25/2025",
         "360",
         "52",
         "6",
         "112",
         "60",
         "255",
         "34680.0",
         "2/21/2010",
         "2025-06-24",
         "4.85",
         "4.88",
         "4.86",
         "4.87",
         "4.94",
         "4.9",
         "4.81",
         "Municipal registration number: 25-156058<br />Provincial registration number: H403372913",
         "f",
         "1",
         "1",
         "0",
         "0",
         "1.93",
         "4.919980925828125",
         "5740",
         "29.0",
         "False",
         "False",
         "False",
         "4.872857142857144"
        ],
        [
         "1",
         "16611",
         "https://www.airbnb.com/rooms/16611",
         "20250600000000.0",
         "6/21/2025",
         "previous scrape",
         "1 block to skytrain station, shops,restaurant,bank",
         "My place is close to bank, coffee shops, grocery stores, liquor store, pizza place, restaurants, 24-hour store, 22 minutes to downtown. My place is good for couples, solo adventurers, and business travellers.",
         "Next block to Commercial Drive which has many buses, shops, restaurants, doctors, coffee shops, banks",
         "https://a0.muscache.com/pictures/82101/7127b631_original.jpg",
         "58512",
         "https://www.airbnb.com/users/show/58512",
         "Q",
         "2009-11-29",
         null,
         null,
         null,
         null,
         null,
         "f",
         "https://a0.muscache.com/im/users/58512/profile_pic/1444333643/original.jpg?aki_policy=profile_small",
         "https://a0.muscache.com/im/users/58512/profile_pic/1444333643/original.jpg?aki_policy=profile_x_medium",
         "Commercial Drive",
         "6",
         "7",
         "['email', 'phone']",
         "t",
         "t",
         "Neighborhood highlights",
         "Grandview-Woodland",
         null,
         "49.26339",
         "-123.07145",
         "Entire home",
         "Entire home/apt",
         "6",
         null,
         "1 bath",
         "3.0",
         null,
         "[\"Carbon monoxide alarm\", \"Host greets you\", \"Bed linens\", \"Wifi\", \"Smoke alarm\", \"Washer\", \"Heating\", \"Essentials\", \"Kitchen\", \"Dryer\", \"Pocket wifi\", \"Private entrance\", \"Free parking on premises\", \"Free street parking\", \"Hot water\", \"Extra pillows and blankets\", \"Hangers\", \"Iron\"]",
         null,
         "365",
         "365",
         "365",
         "365",
         "365",
         "365",
         "365.0",
         "365.0",
         null,
         "t",
         "30",
         "60",
         "90",
         "90",
         "6/21/2025",
         "3",
         "0",
         "0",
         "90",
         "0",
         "0",
         null,
         "12/24/2017",
         "2018-02-16",
         "4.0",
         "4.0",
         "3.0",
         "4.0",
         "4.33",
         "5.0",
         "3.67",
         null,
         "f",
         "5",
         "5",
         "0",
         "0",
         "0.03",
         null,
         "5715",
         "2714.0",
         "False",
         "False",
         "False",
         "4.0"
        ],
        [
         "2",
         "18270",
         "https://www.airbnb.com/rooms/18270",
         "20250600000000.0",
         "6/21/2025",
         "city scrape",
         "private rm in clean central 2BR apt",
         "I have a bright furnished 2 bedroom suite on a quiet street in central vibrant part of Vancouver.  <br />The area has lots of coffee shops & restaurants and easy access to public transit in all directions.<br /><br />The bedroom is quite spacious with a queen-sized bed, a dresser and a desk.<br /><br />The location is fantastic - very central, and recently listed as one of the 'coolest streets in North America'.<br /><br />Lots of free parking available on quiet street.",
         "Lots of restaurants, coffee shops.<br />Easy access to public transport in multiple directions.<br />Close vicinity of community centre & public library.",
         "https://a0.muscache.com/pictures/108520241/aeca9591_original.jpg",
         "70437",
         "https://www.airbnb.com/users/show/70437",
         "Ran",
         "2010-01-14",
         "Vancouver, Canada",
         "In my spare time I am pretty active - currently with beach volleyball, hiking, orienteering, swing dancing, and rock-climbing.\r\n\r\nI also enjoy travelling, reading, foreign films, and intelligent conversation about pretty much anything.\r\n\r\nI am often busy after work so may not see much of you, but would be happy to invite you along to some of the outdoor activities that I am doing if you are keen on hiking or other outdoor activities.",
         null,
         null,
         null,
         "f",
         "https://a0.muscache.com/im/pictures/user/User-70437/original/7d40c816-a999-4c47-a5af-7018b87edd9a.png?aki_policy=profile_small",
         "https://a0.muscache.com/im/pictures/user/User-70437/original/7d40c816-a999-4c47-a5af-7018b87edd9a.png?aki_policy=profile_x_medium",
         "Mount Pleasant",
         "1",
         "4",
         "['email', 'phone']",
         "t",
         "t",
         "Neighborhood highlights",
         "Mount Pleasant",
         null,
         "49.26557",
         "-123.096",
         "Private room in condo",
         "Private room",
         "2",
         "1.0",
         "1 shared bath",
         "1.0",
         "1.0",
         "[\"Park view\", \"Coffee maker\", \"Wifi\", \"Smoke alarm\", \"Kitchen\", \"Dryer\", \"Dishes and silverware\", \"Washer\", \"TV with standard cable\", \"Essentials\", \"Fire extinguisher\", \"Indoor fireplace\", \"Refrigerator\", \"Lock on bedroom door\", \"Free parking on premises\", \"Hair dryer\", \"Hot water\", \"Self check-in\", \"Lockbox\", \"Heating\", \"Free street parking\", \"Outdoor furniture\", \"Shampoo\"]",
         "46.0",
         "90",
         "1125",
         "90",
         "90",
         "1125",
         "1125",
         "90.0",
         "1125.0",
         null,
         "t",
         "22",
         "43",
         "64",
         "261",
         "6/21/2025",
         "118",
         "0",
         "0",
         "139",
         "0",
         "0",
         "0.0",
         "3/17/2011",
         "2019-12-31",
         "4.54",
         "4.5",
         "3.98",
         "4.75",
         "4.73",
         "4.69",
         "4.49",
         null,
         "f",
         "1",
         "0",
         "1",
         "0",
         "0.68",
         "3.8501476017100575",
         "5669",
         "2031.0",
         "False",
         "True",
         "False",
         "4.525714285714286"
        ],
        [
         "3",
         "18589",
         "https://www.airbnb.com/rooms/18589",
         "20250600000000.0",
         "6/25/2025",
         "city scrape",
         "Commercial Drive B&B",
         "As hosts, we are welcoming you into our home, which has a beautiful shared living space and where we provide you with a private room and your own private bathroom. Breakfast is included. Private parking at the back on the property.",
         "Lots of restaurants and boutiques just outside our doors on Commercial Drive.",
         "https://a0.muscache.com/pictures/dd3ca406-cb74-4909-8cbd-a98b9cd55179.jpg",
         "71508",
         "https://www.airbnb.com/users/show/71508",
         "Sylvain & Alexis",
         "2010-01-18",
         "Vancouver, Canada",
         "We - Alexis and Sylvain - are the Artistic Directors of Belle Spirale Dance Projects. We are passionate for our commitment to working in the arts and we want to reflect that in our home. Our intention is to create a welcoming and restful environment and we love to share it with our guests. Learn more about us at by searching for Belle Spirale Dance Projects.",
         "within an hour",
         "100%",
         "100%",
         "t",
         "https://a0.muscache.com/im/pictures/user/dda7e40f-53b6-493f-b5f2-79f18bcebe91.jpg?aki_policy=profile_small",
         "https://a0.muscache.com/im/pictures/user/dda7e40f-53b6-493f-b5f2-79f18bcebe91.jpg?aki_policy=profile_x_medium",
         "Commercial Drive",
         "1",
         "3",
         "['email', 'phone']",
         "t",
         "t",
         "Neighborhood highlights",
         "Grandview-Woodland",
         null,
         "49.27569",
         "-123.07057",
         "Private room in home",
         "Private room",
         "2",
         "1.0",
         "1 private bath",
         "1.0",
         "1.0",
         "[\"Dedicated workspace\", \"Oven\", \"Wine glasses\", \"Portable fans\", \"Microwave\", \"Cooking basics\", \"Long term stays allowed\", \"Dishes and silverware\", \"Shower gel\", \"Indoor fireplace: gas\", \"Essentials\", \"Breakfast\", \"Heating\", \"Iron\", \"40 inch HDTV with Netflix, standard cable\", \"Conditioner\", \"Washer\", \"Hangers\", \"Lock on bedroom door\", \"Body soap\", \"Portable air conditioning\", \"Lockbox\", \"Bed linens\", \"Stove\", \"Self check-in\", \"Bathtub\", \"Kitchen\", \"Hot water\", \"Dryer\", \"Fire extinguisher\", \"Free parking on premises\", \"Room-darkening shades\", \"Outdoor furniture\", \"Freezer\", \"Carbon monoxide alarm\", \"Refrigerator\", \"Wifi\", \"Coffee\", \"Dishwasher\", \"Backyard\", \"Smoke alarm\", \"Coffee maker: pour-over coffee\", \"Shampoo\", \"Extra pillows and blankets\", \"Shared patio or balcony\", \"Toaster\", \"Hair dryer\", \"Hot water kettle\"]",
         "187.0",
         "1",
         "40",
         "1",
         "2",
         "1125",
         "1125",
         "1.0",
         "1125.0",
         null,
         "t",
         "3",
         "3",
         "5",
         "31",
         "6/25/2025",
         "605",
         "60",
         "10",
         "31",
         "71",
         "255",
         "47685.0",
         "6/6/2011",
         "2025-06-24",
         "4.98",
         "4.97",
         "4.98",
         "4.99",
         "4.99",
         "4.93",
         "4.96",
         "Municipal registration number: 25-155972<br />Provincial registration number: H810324706",
         "f",
         "1",
         "0",
         "1",
         "0",
         "3.54",
         "5.236441962829949",
         "5665",
         "29.0",
         "False",
         "True",
         "False",
         "4.971428571428572"
        ],
        [
         "4",
         "18795",
         "https://www.airbnb.com/rooms/18795",
         "20250600000000.0",
         "6/21/2025",
         "city scrape",
         "*Best choice in downtown-5 Stars * -2",
         null,
         null,
         "https://a0.muscache.com/pictures/96249/03d3af84_original.jpg",
         "70137",
         "https://www.airbnb.com/users/show/70137",
         "Kai",
         "2010-01-13",
         "Vancouver, Canada",
         "Hi Dear Guests. House i is a company operating accommodation.  Our staff Cheryl, James,Thelma and Taty will be here to serve you.  House i is centrally located in downtown Vancouver and our goal is to provide a professional cleaning standard accommodation rather than a family oriented accommodation.  If you are looking for a convenient location, nice and clean accommodation at a reasonable price,  we will be your best choice.  \n\nLook forward to seeing you soon.\n\nHouse i Staff",
         "within an hour",
         "100%",
         "80%",
         "t",
         "https://a0.muscache.com/im/users/70137/profile_pic/1367221458/original.jpg?aki_policy=profile_small",
         "https://a0.muscache.com/im/users/70137/profile_pic/1367221458/original.jpg?aki_policy=profile_x_medium",
         "West End",
         "4",
         "9",
         "['email', 'phone']",
         "t",
         "t",
         null,
         "West End",
         null,
         "49.28299",
         "-123.13008",
         "Private room in home",
         "Private room",
         "2",
         "1.0",
         "1 private bath",
         "1.0",
         "1.0",
         "[\"Bed linens\", \"Wifi\", \"Refrigerator\", \"Washer\", \"Heating\", \"Essentials\", \"Kitchen\", \"Dryer\", \"Cooking basics\", \"Hair dryer\", \"Stove\", \"Hot water\", \"Oven\", \"Hangers\", \"Clothing storage: closet\", \"Dishes and silverware\", \"Dedicated workspace\"]",
         "75.0",
         "90",
         "360",
         "90",
         "90",
         "360",
         "360",
         "90.0",
         "360.0",
         null,
         "t",
         "30",
         "60",
         "90",
         "365",
         "6/21/2025",
         "131",
         "0",
         "0",
         "194",
         "0",
         "0",
         "0.0",
         "4/30/2011",
         "2023-06-01",
         "4.56",
         "4.56",
         "4.46",
         "4.67",
         "4.66",
         "4.88",
         "4.5",
         "Municipal registration number: 18-573700",
         "f",
         "4",
         "0",
         "4",
         "0",
         "0.76",
         "4.330733340286331",
         "5670",
         "783.0",
         "False",
         "True",
         "False",
         "4.612857142857143"
        ]
       ],
       "shape": {
        "columns": 86,
        "rows": 5
       }
      },
      "text/html": [
       "<div>\n",
       "<style scoped>\n",
       "    .dataframe tbody tr th:only-of-type {\n",
       "        vertical-align: middle;\n",
       "    }\n",
       "\n",
       "    .dataframe tbody tr th {\n",
       "        vertical-align: top;\n",
       "    }\n",
       "\n",
       "    .dataframe thead th {\n",
       "        text-align: right;\n",
       "    }\n",
       "</style>\n",
       "<table border=\"1\" class=\"dataframe\">\n",
       "  <thead>\n",
       "    <tr style=\"text-align: right;\">\n",
       "      <th></th>\n",
       "      <th>id</th>\n",
       "      <th>listing_url</th>\n",
       "      <th>scrape_id</th>\n",
       "      <th>last_scraped</th>\n",
       "      <th>source</th>\n",
       "      <th>name</th>\n",
       "      <th>description</th>\n",
       "      <th>neighborhood_overview</th>\n",
       "      <th>picture_url</th>\n",
       "      <th>host_id</th>\n",
       "      <th>...</th>\n",
       "      <th>calculated_host_listings_count_private_rooms</th>\n",
       "      <th>calculated_host_listings_count_shared_rooms</th>\n",
       "      <th>reviews_per_month</th>\n",
       "      <th>price_log</th>\n",
       "      <th>host_age_days</th>\n",
       "      <th>days_since_last_review</th>\n",
       "      <th>room_type_Hotel room</th>\n",
       "      <th>room_type_Private room</th>\n",
       "      <th>room_type_Shared room</th>\n",
       "      <th>avg_review_score</th>\n",
       "    </tr>\n",
       "  </thead>\n",
       "  <tbody>\n",
       "    <tr>\n",
       "      <th>0</th>\n",
       "      <td>13188</td>\n",
       "      <td>https://www.airbnb.com/rooms/13188</td>\n",
       "      <td>2.025060e+13</td>\n",
       "      <td>6/25/2025</td>\n",
       "      <td>city scrape</td>\n",
       "      <td>Garden level studio in ideal loc.</td>\n",
       "      <td>Garden level studio suite with garden patio - ...</td>\n",
       "      <td>The uber hip Main street area is a short walk ...</td>\n",
       "      <td>https://a0.muscache.com/pictures/8408188/e1af6...</td>\n",
       "      <td>51466</td>\n",
       "      <td>...</td>\n",
       "      <td>0</td>\n",
       "      <td>0</td>\n",
       "      <td>1.93</td>\n",
       "      <td>4.919981</td>\n",
       "      <td>5740</td>\n",
       "      <td>29.0</td>\n",
       "      <td>False</td>\n",
       "      <td>False</td>\n",
       "      <td>False</td>\n",
       "      <td>4.872857</td>\n",
       "    </tr>\n",
       "    <tr>\n",
       "      <th>1</th>\n",
       "      <td>16611</td>\n",
       "      <td>https://www.airbnb.com/rooms/16611</td>\n",
       "      <td>2.025060e+13</td>\n",
       "      <td>6/21/2025</td>\n",
       "      <td>previous scrape</td>\n",
       "      <td>1 block to skytrain station, shops,restaurant,...</td>\n",
       "      <td>My place is close to bank, coffee shops, groce...</td>\n",
       "      <td>Next block to Commercial Drive which has many ...</td>\n",
       "      <td>https://a0.muscache.com/pictures/82101/7127b63...</td>\n",
       "      <td>58512</td>\n",
       "      <td>...</td>\n",
       "      <td>0</td>\n",
       "      <td>0</td>\n",
       "      <td>0.03</td>\n",
       "      <td>NaN</td>\n",
       "      <td>5715</td>\n",
       "      <td>2714.0</td>\n",
       "      <td>False</td>\n",
       "      <td>False</td>\n",
       "      <td>False</td>\n",
       "      <td>4.000000</td>\n",
       "    </tr>\n",
       "    <tr>\n",
       "      <th>2</th>\n",
       "      <td>18270</td>\n",
       "      <td>https://www.airbnb.com/rooms/18270</td>\n",
       "      <td>2.025060e+13</td>\n",
       "      <td>6/21/2025</td>\n",
       "      <td>city scrape</td>\n",
       "      <td>private rm in clean central 2BR apt</td>\n",
       "      <td>I have a bright furnished 2 bedroom suite on a...</td>\n",
       "      <td>Lots of restaurants, coffee shops.&lt;br /&gt;Easy a...</td>\n",
       "      <td>https://a0.muscache.com/pictures/108520241/aec...</td>\n",
       "      <td>70437</td>\n",
       "      <td>...</td>\n",
       "      <td>1</td>\n",
       "      <td>0</td>\n",
       "      <td>0.68</td>\n",
       "      <td>3.850148</td>\n",
       "      <td>5669</td>\n",
       "      <td>2031.0</td>\n",
       "      <td>False</td>\n",
       "      <td>True</td>\n",
       "      <td>False</td>\n",
       "      <td>4.525714</td>\n",
       "    </tr>\n",
       "    <tr>\n",
       "      <th>3</th>\n",
       "      <td>18589</td>\n",
       "      <td>https://www.airbnb.com/rooms/18589</td>\n",
       "      <td>2.025060e+13</td>\n",
       "      <td>6/25/2025</td>\n",
       "      <td>city scrape</td>\n",
       "      <td>Commercial Drive B&amp;B</td>\n",
       "      <td>As hosts, we are welcoming you into our home, ...</td>\n",
       "      <td>Lots of restaurants and boutiques just outside...</td>\n",
       "      <td>https://a0.muscache.com/pictures/dd3ca406-cb74...</td>\n",
       "      <td>71508</td>\n",
       "      <td>...</td>\n",
       "      <td>1</td>\n",
       "      <td>0</td>\n",
       "      <td>3.54</td>\n",
       "      <td>5.236442</td>\n",
       "      <td>5665</td>\n",
       "      <td>29.0</td>\n",
       "      <td>False</td>\n",
       "      <td>True</td>\n",
       "      <td>False</td>\n",
       "      <td>4.971429</td>\n",
       "    </tr>\n",
       "    <tr>\n",
       "      <th>4</th>\n",
       "      <td>18795</td>\n",
       "      <td>https://www.airbnb.com/rooms/18795</td>\n",
       "      <td>2.025060e+13</td>\n",
       "      <td>6/21/2025</td>\n",
       "      <td>city scrape</td>\n",
       "      <td>*Best choice in downtown-5 Stars * -2</td>\n",
       "      <td>NaN</td>\n",
       "      <td>NaN</td>\n",
       "      <td>https://a0.muscache.com/pictures/96249/03d3af8...</td>\n",
       "      <td>70137</td>\n",
       "      <td>...</td>\n",
       "      <td>4</td>\n",
       "      <td>0</td>\n",
       "      <td>0.76</td>\n",
       "      <td>4.330733</td>\n",
       "      <td>5670</td>\n",
       "      <td>783.0</td>\n",
       "      <td>False</td>\n",
       "      <td>True</td>\n",
       "      <td>False</td>\n",
       "      <td>4.612857</td>\n",
       "    </tr>\n",
       "  </tbody>\n",
       "</table>\n",
       "<p>5 rows × 86 columns</p>\n",
       "</div>"
      ],
      "text/plain": [
       "      id                         listing_url     scrape_id last_scraped  \\\n",
       "0  13188  https://www.airbnb.com/rooms/13188  2.025060e+13    6/25/2025   \n",
       "1  16611  https://www.airbnb.com/rooms/16611  2.025060e+13    6/21/2025   \n",
       "2  18270  https://www.airbnb.com/rooms/18270  2.025060e+13    6/21/2025   \n",
       "3  18589  https://www.airbnb.com/rooms/18589  2.025060e+13    6/25/2025   \n",
       "4  18795  https://www.airbnb.com/rooms/18795  2.025060e+13    6/21/2025   \n",
       "\n",
       "            source                                               name  \\\n",
       "0      city scrape                  Garden level studio in ideal loc.   \n",
       "1  previous scrape  1 block to skytrain station, shops,restaurant,...   \n",
       "2      city scrape                private rm in clean central 2BR apt   \n",
       "3      city scrape                               Commercial Drive B&B   \n",
       "4      city scrape              *Best choice in downtown-5 Stars * -2   \n",
       "\n",
       "                                         description  \\\n",
       "0  Garden level studio suite with garden patio - ...   \n",
       "1  My place is close to bank, coffee shops, groce...   \n",
       "2  I have a bright furnished 2 bedroom suite on a...   \n",
       "3  As hosts, we are welcoming you into our home, ...   \n",
       "4                                                NaN   \n",
       "\n",
       "                               neighborhood_overview  \\\n",
       "0  The uber hip Main street area is a short walk ...   \n",
       "1  Next block to Commercial Drive which has many ...   \n",
       "2  Lots of restaurants, coffee shops.<br />Easy a...   \n",
       "3  Lots of restaurants and boutiques just outside...   \n",
       "4                                                NaN   \n",
       "\n",
       "                                         picture_url  host_id  ...  \\\n",
       "0  https://a0.muscache.com/pictures/8408188/e1af6...    51466  ...   \n",
       "1  https://a0.muscache.com/pictures/82101/7127b63...    58512  ...   \n",
       "2  https://a0.muscache.com/pictures/108520241/aec...    70437  ...   \n",
       "3  https://a0.muscache.com/pictures/dd3ca406-cb74...    71508  ...   \n",
       "4  https://a0.muscache.com/pictures/96249/03d3af8...    70137  ...   \n",
       "\n",
       "  calculated_host_listings_count_private_rooms  \\\n",
       "0                                            0   \n",
       "1                                            0   \n",
       "2                                            1   \n",
       "3                                            1   \n",
       "4                                            4   \n",
       "\n",
       "  calculated_host_listings_count_shared_rooms reviews_per_month price_log  \\\n",
       "0                                           0              1.93  4.919981   \n",
       "1                                           0              0.03       NaN   \n",
       "2                                           0              0.68  3.850148   \n",
       "3                                           0              3.54  5.236442   \n",
       "4                                           0              0.76  4.330733   \n",
       "\n",
       "  host_age_days days_since_last_review room_type_Hotel room  \\\n",
       "0          5740                   29.0                False   \n",
       "1          5715                 2714.0                False   \n",
       "2          5669                 2031.0                False   \n",
       "3          5665                   29.0                False   \n",
       "4          5670                  783.0                False   \n",
       "\n",
       "  room_type_Private room room_type_Shared room avg_review_score  \n",
       "0                  False                 False         4.872857  \n",
       "1                  False                 False         4.000000  \n",
       "2                   True                 False         4.525714  \n",
       "3                   True                 False         4.971429  \n",
       "4                   True                 False         4.612857  \n",
       "\n",
       "[5 rows x 86 columns]"
      ]
     },
     "execution_count": 61,
     "metadata": {},
     "output_type": "execute_result"
    }
   ],
   "source": [
    "import pandas as pd\n",
    "\n",
    "pd.set_option('future.no_silent_downcasting', True)\n",
    "\n",
    "# Read the featured listings CSV using a path relative to the repo root\n",
    "df = pd.read_csv(\"data/processed/featured_listings.csv\")\n",
    "\n",
    "print(f\"Loaded data with shape: {df.shape}\")\n",
    "df.head()\n"
   ]
  },
  {
   "cell_type": "markdown",
   "metadata": {},
   "source": [
    "### Step 2 – Define Target + Features"
   ]
  },
  {
   "cell_type": "code",
   "execution_count": 62,
   "metadata": {},
   "outputs": [
    {
     "name": "stdout",
     "output_type": "stream",
     "text": [
      "Dropped 'price_log' to avoid data leakage.\n",
      "Features and target prepared.\n",
      "X shape: (4238, 32414)\n",
      "Remaining dtypes:\n",
      " bool       32369\n",
      "int64         24\n",
      "float64       21\n",
      "Name: count, dtype: int64\n"
     ]
    }
   ],
   "source": [
    "# Drop rows where price is missing\n",
    "df = df.dropna(subset=['price'])\n",
    "\n",
    "# Drop 'price_log' if exists (to avoid data leakage)\n",
    "if 'price_log' in df.columns:\n",
    "    df = df.drop(columns=['price_log'])\n",
    "    print(\"Dropped 'price_log' to avoid data leakage.\")\n",
    "\n",
    "# Drop unnecessary or ID columns\n",
    "drop_cols = ['id', 'name', 'host_id', 'host_name', 'last_review', 'license']\n",
    "df = df.drop(columns=[col for col in drop_cols if col in df.columns])\n",
    "\n",
    "# Separate target and features\n",
    "target = 'price'\n",
    "y = df[target]\n",
    "X = df.drop(columns=[target])\n",
    "\n",
    "# One-hot encode categorical variables\n",
    "X = pd.get_dummies(X, drop_first=True)\n",
    "\n",
    "# Ensure index alignment\n",
    "X = X.reset_index(drop=True)\n",
    "y = y.reset_index(drop=True)\n",
    "\n",
    "# Print confirmation\n",
    "print(\"Features and target prepared.\")\n",
    "print(\"X shape:\", X.shape)\n",
    "print(\"Remaining dtypes:\\n\", X.dtypes.value_counts())\n"
   ]
  },
  {
   "cell_type": "markdown",
   "metadata": {},
   "source": [
    "### Step 3 – Train/Test Split"
   ]
  },
  {
   "cell_type": "code",
   "execution_count": 63,
   "metadata": {},
   "outputs": [
    {
     "name": "stdout",
     "output_type": "stream",
     "text": [
      "Training rows: 3390 | Test rows: 848\n"
     ]
    }
   ],
   "source": [
    "from sklearn.model_selection import train_test_split\n",
    "\n",
    "# STEP 3: Train-test split (using already cleaned and encoded X, y from Step 2)\n",
    "X_train, X_test, y_train, y_test = train_test_split(\n",
    "    X, y, test_size=0.2, random_state=42\n",
    ")\n",
    "\n",
    "# Reset indices to ensure alignment\n",
    "X_train = X_train.reset_index(drop=True)\n",
    "X_test = X_test.reset_index(drop=True)\n",
    "y_train = y_train.reset_index(drop=True)\n",
    "y_test = y_test.reset_index(drop=True)\n",
    "\n",
    "print(f\"Training rows: {X_train.shape[0]} | Test rows: {X_test.shape[0]}\")\n"
   ]
  },
  {
   "cell_type": "markdown",
   "metadata": {},
   "source": [
    "### Step 4 – Baseline Model"
   ]
  },
  {
   "cell_type": "code",
   "execution_count": 64,
   "metadata": {},
   "outputs": [
    {
     "name": "stdout",
     "output_type": "stream",
     "text": [
      "Missing values in y_test: 0\n",
      "Missing values in y_pred_baseline: 0\n",
      "Baseline Mean Prediction: 257.05\n",
      "Baseline MAE: 126.85\n",
      "Baseline RMSE: 187.42\n"
     ]
    }
   ],
   "source": [
    "from sklearn.metrics import mean_absolute_error, mean_squared_error\n",
    "import numpy as np\n",
    "import pandas as pd\n",
    "\n",
    "# Predict the mean of y_train\n",
    "mean_price = y_train.mean()\n",
    "y_pred_baseline = pd.Series([mean_price] * len(y_test), index=y_test.index)\n",
    "\n",
    "# Check for missing values in y_test or predictions\n",
    "print(\"Missing values in y_test:\", y_test.isnull().sum())\n",
    "print(\"Missing values in y_pred_baseline:\", y_pred_baseline.isnull().sum())\n",
    "\n",
    "# Apply mask safely\n",
    "mask = ~y_test.isnull()\n",
    "mae = mean_absolute_error(y_test[mask], y_pred_baseline[mask])\n",
    "rmse = np.sqrt(mean_squared_error(y_test[mask], y_pred_baseline[mask]))\n",
    "\n",
    "# Show metrics\n",
    "print(f\"Baseline Mean Prediction: {mean_price:.2f}\")\n",
    "print(f\"Baseline MAE: {mae:.2f}\")\n",
    "print(f\"Baseline RMSE: {rmse:.2f}\")\n"
   ]
  },
  {
   "cell_type": "code",
   "execution_count": 65,
   "metadata": {},
   "outputs": [
    {
     "name": "stdout",
     "output_type": "stream",
     "text": [
      "Potential leakage columns: ['description_*****Minimum 90 Days Rental*****<br /><br />Stunning, unobstructed VIEW of marina & North Shore mountains. This immaculate home features a fully furnished  1 bedroom, 1  full bathroom, and 1 secured parking. Enjoy beautiful views from your living room - watching boats sail by. Steps to excellent amenities, shops, restaurants, Vancouver Convention Centre, parks, & seawall. Enjoy the vibrant Coal Harbour at an affordable price. Steps to shopping, transit, fine dining, & a short distance to Stanley Park.', 'description_5-minute walk to restaurants, banks, supermarkets, and bus stops.<br />The room is l bright and cozy, stylishly furnished with a queen-size bed, desk & chair, shelf, and a built-in closet.<br />This is a quiet & nice neighborhood, with free parking in front, Bus 10,17 & 16 direct to Vancouver downtown (30 minutes), and 8 minutes to the Airport. PS: This price is for one person.', 'description_800-square-foot home on two levels with a dedicated outdoor patio. There is construction in the neighbourhood. We have discounted our price to account for construction.<br /><br />7 km ( 4.3 miles) to Downtown Vancouver <br />7.3 km (4.3 miles) to Canada Place<br /><br />High-end amenities, an open-concept floor plan, and a shady outdoor courtyard are perfect for dining, working, and extended stays. Easy access to transit and bike routes, a short walk to parks, restaurants, and shops, and fast WiFi.', 'description_Ask for special price for individual days<br />June 23 to July 2nd 20% discount', 'description_Best location in Vancouver! Located in the heart of the historic Gastown. <br /><br />You have everything you need within walking distance! Easy access to the Skytrain, trendy restaurants and shops. <br /><br />This exceptional property not only offers stunning downtown views but also boasts excellent amenities, including an inviting indoor/outdoor lounge with a bbq, hot tub and pool table. <br /><br />Plus, enjoy the convenience and security of 24-hour concierge service<br /><br />P.s: <br />Prices are welcome for negotiation.', 'description_Bright and Modern One Bedroom + Den Apartment Suite Right in the Heart of Downtown Vancouver. This Home Away From Home is Well Stocked with Towels and Linens, a Fully Equipped Kitchen with Stainless Steel Appliances and Granite Counter Tops.<br />Price Includes Cable Television, Local Telephone, Wireless High-Speed Internet, In-Suite Laundry, Dishwasher and Parking. For Your Enjoyment You Will Also Have Access to the Common Room, Pool and Gym Facilities!<br />Grocery Stores, Vancouver Night Life, The Vancouver Seawall and Skytrain are all Right at Your Door Step! <br /><br />The apartment suite faces Emery Barnes Park which features a great play ground for little kids and there is a Starbucks steps away from the lobby which if convenient for all those coffee lovers like myself.  <br />Downtown Vancouver is a very walkable city, and every mode of transport is available to you - skytrain, bus, sea bus, cars to go, or city bicycles are all easy accessible. <br /><br />I live just around t', 'description_Cozy studio townhouse perfect for solo travelers, couples, business travel. <br /><br />Nearly downtown without the prices. <br /><br />A clean, modern space with everything you need for a short or long stay.  <br /><br />A few highlights:  <br />- 15 minutes to the airport, 15 minutes downtown  <br />- 2 minute walk to the Skytrain <br />- private street entrance, private garden patio <br />- fully equipped kitchenette <br />- Nespresso  <br />- big screen smart TV with Netflix and Prime Video <br />- Alexa digital assistant <br />- desk space <br />- queen-sized bed', \"description_Enjoy easy access to everything from this perfectly located home base. This cozy condo is located close to downtown,  convenient bus routes and skytrain stations, and many restaurants and convenient services nearby.  <br /><br />What's included: <br />* Linens, towels and basic toiletries.<br />* Secured underground parking. <br />* Access to my personal Level 2 EV charger available upon request (charging costs extra).<br /><br />Need something? Just ask!<br /><br />** Reservations include GST (Goods and Services Tax) in the base price.\", \"description_Experience the ultimate vacation in Vancouver with our camper van!!<br /><br />Say goodbye to pricey car rentals and expensive hotel rooms while enjoying the freedom. Our van is parked in a safe neighbourhood just blocks from Kitsilano Beach, you'll wake up to stunning sunrises and witness unforgettable sunsets. <br /><br />Explore trendy coffee shops, bars, and restaurants before venturing into the breathtaking mountains, rivers, and lakes. Easy to drive, our camper van ensures a hassle-free adventure.\", 'description_Located in the quiet and safe neighborhood of Vancouver (Near West 64th Avenue Vancouver & Granville Street), modern furnished basement with major nearby amenities including shopping centers, restaurants, airport shopping centers, amusement facilities. Design consideration of hotel comfort lifestyle elements, so that guests come back to rest after the day, supplement. The interior includes a contemporary ensuite bathroom range of supplies, elegant lighting, art murals, and works of art, etc.Competitive prices compared to hotels<br /><br />The design includes many details from color scheme to art selection, choice of modern furniture, double layers of curtains, large glass sliding doors, walk-in showers, comfortable quilts and pillow options.There are also many types of appliances, including a 50-inch smart TV, a name brand coffee machine, a washer/dryer. This quiet and modern basement suite features 1 Queen bed, private bathroom and private terrace for extra comfort.', 'description_Master Bedroom has a Queen Bed and Junior Bedroom has a Single Bed. <br /><br />This Home Away From Home is Well Stocked with Towels and Linens, a Fully Equipped Kitchen with Stainless Steel Appliances and Granite Counter Tops.<br />Price Includes Cable Television, Local Telephone, Wireless High-Speed Internet, In-Suite Laundry, Dishwasher and Parking. For Your Enjoyment You Will Also Have Access to the Common Room and Gym Facilities!<br /><br />The apartment is located very close to Robson Street which is ideal for shopping or finding great restaurants, the Vancouver Arts Gallery is a block away and always has really interested exhibits.  This unit faces the Law Courts so you donâ€™t need to worry about privacy as no one can see into your unit. There is also a grocery store and YMCA gym right across the street which has a great swimming pool and sauna. And for coffee lovers like myself there is a Starbucks located right off the lobby. <br /><br />Downtown Vancouver is a very walkable ci', 'description_Newly Built Apartment in the Downtown West End area, seconds from Davie village and minutes away from the beach (English Bay). This thriving neighbourhood offers a wide range of reasonably priced unique restaurants, bars and pubs, hotels and spas, specialty shops, bookstores, and more. Casual eateries range from Greek tavernas and curry houses to old-school diners and cozy coffee shops. Itâ€™s not unusual to see line-ups for the most popular spots, but fear not, the queue will move quickly!', 'description_One-bedroom plus den modern apartment downtown. The den can be used as an office or bedroom. A upgraded bathroom. Close to Rogers Arena, Train, coffee,  restaurants, and grocery.  Kitchenware, laundry provided. Free Spa,Gym  and free 1 security parking. The price is for two guests with one queen bed. Additional fees: Two guests, sleep separately,  sofa bed: $30/night, over 3 nights discount applies 2 .The extra 3 guest: $30/night. 3) A portable air conditioner for July & August', 'description_Our new elegant 3BR half-duplex house with a private entrance and private fenced backyard is within walking distance to everything in Kitsilano, a beautiful seaside community of Vancouver with a lively beach (4 mins by car) and vibrant shopping streets West 4th Avenue and West Broadway, UBC (7 mins by car). Completely private, self-contained. A short walk to stores or choose among several coffee shops, pubs, fast food and a variety of international cuisines in every price category.', 'description_Private digs in the heart of it all! Close to downtown, close to Broadway, one block from a water park, and right in the thick of the lovely Mount Pleasant-- known for its antique shops, local fashion, high end yet local eats and coffee! Just reno-ed!<br /><br />My preference is for longer term tenants and the price will be cheaper for each additional month. Inquire!!', 'description_Same area want to see millions view as my apt ? Over $1000 one night ! 4 days price u can stay whole month ! ! Incredible Stanley Park and Coal Harbour views ! Best location at coal harbor just across Stanley park !', \"description_Stay in this bright and modern studio apartment, located right in the heart of Yaletown Vancouver with beautiful views of Emery Barnes Park. This home away from home is well stocked with towels and linens, as well as a fully equipped kitchen. Price includes cable television, local telephone, wireless high-speed internet, in-suite laundry,  and parking. For your enjoyment you will also have access to the sauna and gym facilities!<br /><br />As a guest in the condo, you also have access to a full gym, sauna as well as all facilities available in the building<br /><br />I can always be reached via telephone, email, text or iMessages<br /><br />The condo is centrally located in the heart of Yaletown, within 4 blocks of the Yaletown Skytrain Station and 3 blocks from the Vancouver Seawall. It's an easy walk to downtown, BC Place, shops, bars, restaurants, grocery stores, and transit.<br /><br />Easy access to both bus and skytrain, free underground parking and if you need a vehicle, there i\", 'description_Suite boasts a west coast nautical theme with large windows with a wall of French Doors, gas fireplace, hardwood floors with its own small patio and looking out on a pretty garden and treed backyard. Shared back patio with access to BBQ and fire pit. Suite is approximately 850 sq ft with 7\\'3\" ceilings, with private entrance.<br /><br />Excellent for a people who are into healthy and active living.  The Fraser Location is perfect for individuals who want access to fresh well priced produce and organics.', 'description_The condo is in the heart of Yaletown with a walking score of 100, steps from shopping, dozens of restaurants, Rogers Arena, and BC Place. Take a stroll along the False Creek Seawall, which connects to English Bay, Stanley Park, and Coal Harbour.<br /><br />This home away from home is well stocked with towels and linens, as well as a fully equipped kitchen with stainless steel appliances and granite counter tops. Price includes wireless high-speed internet, in-suite laundry, dishwasher and all utilities.', 'description_This completely revamped 1910 home is located in trendy East Village. Parks, grocery stores, cafeâ€™s and breweries all within walking distance. Close to downtown and minutes to the highway and bridge to the north shore.<br />Ocean and mountain views from the backyard. Private parking pad. Wifi.<br /><br />*NOTE* over the next 4-6 months there will be construction ongoing which includes the conversion of the garage into a laneway home.  the price will reflect the inconvenience.', 'description_This home offers an ideal blend of comfort, convenience, and great hospitality. Guests have highlighted the exceptional location, with easy access to transit, grocery stores, and restaurants within walking distance. The space is clean, cozy, and well-equipped, full sized laundry and welcome package. Greg is responsive and ensuring smooth check-ins and assistance whenever needed.  Guests appreciate the overall value for the price, making it a great option for both short stays and longer visits.', \"neighborhood_overview_Besides the busy street, our house is located in a quiet and calm neighbourhood. There is a community park two blocks away from our hosue with a soccer field, a basketball court, two tennis courts, and a mini water park . You will definitely notice that we have a lot of greenery around here. Feel free to take out your running shoes and go for a jog.<br /><br />About 15 minutes on foot west of our place, you will be in one of Vancouverâ€™s best neighbourhoods, Commercial Drive.  <br /><br />Feast your eyes and taste buds on our amazing shops and restaurants! There are great shops on every block with one-of-a-kind goods. It's also a wonderful place for great food and drinks at a reasonable price. There are cuisines from Japan, China, India, Africa, South America, Belgium, Italy .... We also have bars, nightclubs, and a bowling alley nearby. <br /><br /> If you want something different, the Rio Theatre near Broadway and Commercial Drive have indie movies, comedy nights, and all kinds of eve\", 'neighborhood_overview_Central Downtown, close to Art Gallery, Robson Street, transit, law courts, and all of the 5* hotels (without the 5* price)', \"neighborhood_overview_Central downtown Vancouver. Walkable to absolutely everything. Transit is near by, as well as all major event centers and entertainment districts.<br /><br />You can't get a better location for the price.\", \"neighborhood_overview_Commercial Drive is home to the best and most diverse restaurants in the city, and stretches from Broadway and Commercial to Hastings and Commercial. The street is lively, especially in the Summer, with buskers and bands in parks, bars, and on street corners. <br /><br />It's also conveniently located within Greater Vancouver, and very easy to get downtown from (without paying downtown prices!).\", 'neighborhood_overview_Hastings Sunrise is one of the most fun and diverse neighbourhoods in Vancouver.  10 minute walk to the lively Commercial Drive and 10 minutes via car or bus to downtown.  A plethora of restaurants, cafes and bars to suit all palates and price ranges.  A short drive 15-20 minutes to the mountains and ocean where you can enjoy a variety of recreational activities: hiking, mountain biking, kayaking, fishing, etc.', 'neighborhood_overview_Located just east of Fraser and close to everything you need to have a great stay in Vancouver. Within three blocks you will find several great parks, banks and two grocery stores - one of which has the best priced organics in the city. <br /><br />We are within walking distance to many great restaurants on Fraser and Main St, including the iconic Earnest Ice Cream. The suite is just steps to transit that will take you anywhere you need to be in Vancouver with direct access to downtown and Stanley Park. We are a short 15 minute drive from the heart of downtown. Street parking is free. Access to our city wide bike route network is only blocks away.', 'neighborhood_overview_Located steps to beautiful open Clark Park, it is a great location for those who enjoy a 5 minute walk to countless local restaurants and shops. Numerous bus stops are 3 minutes away. Modern and very comfortable, you cannot beat the price for the tranquility, convenience, and care that you get.', \"neighborhood_overview_The Commercial drive Neighbourhood is Vancouver's funkiest and most culturally vibrant area. Numerous Cafes, restaurants and shops dot the 20 block of commercial drive between 12th Ave and Venables street. The neighbourhood is famous for its specialty grocers and delis and its reasonably priced produce shops. 'The Drive' is also Vancouver's original 'Little Italy' and still features many Italian restaurants and cafes, including Via Tevere, Vancouver's only certified Neapolitan Pizzeria, but almost all other ethnic foods are also well represented, with some of the city's best Sushi (Kishimoto), Indian food (Sula) and bar food (Havana, Community, The Tangent). Check out Turk's or Moja coffee shops for some of the best espresso in town. You can find Live music mostly on weekends in multiple places too. The Drive is predominantly a family oriented neighbourhood, and is safe to walk around at all hours of the day and night. The newly renovated Grandview Park, with its large playground and g\", 'neighborhood_overview_The neighbourhood is quiet, yet close to hip restaurants, coffee shops and boutiques, and minutes from all the attractions the city has to offer. The \"Main Street\" community offers a unique shopping experience featuring many Canadian clothing designers, and a rich variety of local restaurants serving food from around the world at every price range. 5 blocks to craft brewery pub. Walking distance to grocery stores, pharmacies, gourmet organic food shops, etc.', 'neighborhood_overview_Two cobblestoned streets, Hamilton and Mainland, pave the way for trendy boutiques, independent retailers, yoga studios, and offices, most of which are situated behind original exposed brick exteriors. A refined business crowd filters into Yaletown to enjoy an after-work cocktail at one of the many classy lounges or outdoor patios. This locality houses mostly young professionals and families and is in the higher housing price range with many of the properties being situated along the waterfront. On the corner of Pacific Boulevard and Davie Street is the Roundhouse Community Arts and Recreation Centre, a significant historical landmark offering a variety of recreational classes Situated next to the Roundhouse is the Engine 375 Pavilion, housing the first transcontinental passenger train in the city.', \"neighborhood_overview_You will be staying in the heart of Mount Pleasant area in Vancouver.  It is an area filled with families, so a very friendly atmosphere. To the west, towards Main Street, you will find a great mix of shops and restaurants (An & Chi),  by the intersection of 16th and Main (check out Granville Island Toy Company, it's great for kids!)<br /><br />Towards the east, there is the intersection of Fraser St and Kingsway.  Lots of great little restaurants in this area as well (Osteria Savio Volpe, Matchstick Coffee, Les Faux  Bourgeois, Sal y Limon, Ba-Le, Jethros, BKH Jerkey, The Pie Hole, Pho Long).  That's an an incredible selection from  Mexican, Italian, Vietnamese, French, Singapore beef jerky and more!<br /><br />If you're looking for local parks for your kids to play, there are a few in the neighbourhood.  Check out Price Edward Park (kids play area!), or the park at Sir Charles Tupper Secondary school (kids play area), and Robson Park!\", \"host_about_Hello! We are Mai and Tan. We have been residents of Vancouver for over 40 years and have met so many travelers in our time here. Our motto is comfort and convenience, at an affordable price. We spend our time making sure that each house is cleaned on a daily basis. If there's any questions or concerns, Mai is only a phone call away.\", 'host_about_Hi Dear Guests. House i is a company operating accommodation.  Our staff Cheryl, James,Thelma and Taty will be here to serve you.  House i is centrally located in downtown Vancouver and our goal is to provide a professional cleaning standard accommodation rather than a family oriented accommodation.  If you are looking for a convenient location, nice and clean accommodation at a reasonable price,  we will be your best choice.  \\n\\nLook forward to seeing you soon.\\n\\nHouse i Staff', \"host_about_Hi everyone! My name is Lilly. I was a high school, elementary school, adult continued education and college teacher for most of my life. I also worked as a licensed real estate broker, financial advisor and an orthodontist assistant.\\n\\n I love animals, nature and traveling and have been to many places in every major continent. My goal is visiting, learning and admiring as many places, customs and cultures as I can . I'll help you as much as you need but will not be intrusive to your privacy unless you ask for help when you are here. I am really looking forward to welcome you and serve you with my best abilities. \\n\\nI really love this side job, it provides me endless chances to meet wonderful people from all over the world. it's the best venue to understand,  feel and learn about other countries' without ever walking out of my door !  it's very satisfying and rewarding experience for me albeit every once in awhile, there are some guests could not be satisfied and even think of quiting. Seeing over 75% previous guests writing 5 Star reviews for me and keep me as a Super Host for over 5 times in a row is the best motivation for me to keep doing it. it's so heart warming whenever read new reviews thanking me for providing one of the best or the Best Airbnb experiences. I've got the most wonderful job on Earth! \\n\\nI set the price very reasonably that most people could afford to come visiting this beautiful city I call home. I have been living in Vancouver for over 30 years and I fell in love with her since I first laid my eyes on Her . Hope you'll love Vancouver and feel comfortable in my home as much as I do and have a great time here. Thank you so much again for choosing to be my guests! \\r\\n\"]\n"
     ]
    }
   ],
   "source": [
    "# Check for data leakage before model training because of potential leakage columns (price, price_log, etc.)\n",
    "print(\"Potential leakage columns:\", [col for col in X_train.columns if 'price' in col.lower()])"
   ]
  },
  {
   "cell_type": "markdown",
   "metadata": {},
   "source": [
    "### Step 5 – Linear Regression"
   ]
  },
  {
   "cell_type": "code",
   "execution_count": 66,
   "metadata": {},
   "outputs": [
    {
     "name": "stdout",
     "output_type": "stream",
     "text": [
      "Linear Regression MAE: 77.04\n",
      "Linear Regression RMSE: 119.23\n"
     ]
    }
   ],
   "source": [
    "from sklearn.linear_model import LinearRegression\n",
    "from sklearn.metrics import mean_absolute_error, mean_squared_error\n",
    "import numpy as np\n",
    "import pandas as pd\n",
    "\n",
    "# 1. One-hot encode train and test\n",
    "X_train_encoded = pd.get_dummies(X_train, drop_first=True)\n",
    "X_test_encoded = pd.get_dummies(X_test, drop_first=True)\n",
    "\n",
    "# 2. Drop duplicate columns (edge case protection)\n",
    "X_train_encoded = X_train_encoded.T.drop_duplicates().T\n",
    "X_test_encoded = X_test_encoded.T.drop_duplicates().T\n",
    "\n",
    "# 3. Align test columns to match training columns\n",
    "X_test_encoded = X_test_encoded.reindex(columns=X_train_encoded.columns, fill_value=0)\n",
    "\n",
    "# 4. Fill missing values and handle types\n",
    "X_train_encoded = X_train_encoded.fillna(0).infer_objects(copy=False)\n",
    "X_test_encoded = X_test_encoded.fillna(0).infer_objects(copy=False)\n",
    "\n",
    "# 5. Train model\n",
    "lr_model = LinearRegression()\n",
    "lr_model.fit(X_train_encoded, y_train)\n",
    "\n",
    "# 6. Predict\n",
    "y_pred_lr = lr_model.predict(X_test_encoded)\n",
    "\n",
    "# 7. Evaluate\n",
    "mae_lr = mean_absolute_error(y_test, y_pred_lr)\n",
    "rmse_lr = np.sqrt(mean_squared_error(y_test, y_pred_lr))\n",
    "\n",
    "print(f\"Linear Regression MAE: {mae_lr:.2f}\")\n",
    "print(f\"Linear Regression RMSE: {rmse_lr:.2f}\")\n"
   ]
  },
  {
   "cell_type": "markdown",
   "metadata": {},
   "source": [
    "### Step 6 – Ridge & Random Forest Regression"
   ]
  },
  {
   "cell_type": "code",
   "execution_count": 67,
   "metadata": {},
   "outputs": [
    {
     "name": "stdout",
     "output_type": "stream",
     "text": [
      "Ridge Regression\n",
      "MAE: 73.82\n",
      "RMSE: 115.89\n",
      "\n",
      "Random Forest Regressor\n",
      "MAE: 40.16\n",
      "RMSE: 95.76\n"
     ]
    }
   ],
   "source": [
    "from sklearn.linear_model import Ridge\n",
    "from sklearn.ensemble import RandomForestRegressor\n",
    "from sklearn.metrics import mean_absolute_error, mean_squared_error\n",
    "import numpy as np\n",
    "\n",
    "# Set seed for reproducibility\n",
    "SEED = 42\n",
    "\n",
    "# Ridge Regression\n",
    "ridge_model = Ridge(alpha=1.0, random_state=SEED)\n",
    "ridge_model.fit(X_train_encoded, y_train)\n",
    "y_pred_ridge = ridge_model.predict(X_test_encoded)\n",
    "\n",
    "mae_ridge = mean_absolute_error(y_test, y_pred_ridge)\n",
    "rmse_ridge = np.sqrt(mean_squared_error(y_test, y_pred_ridge))\n",
    "\n",
    "print(\"Ridge Regression\")\n",
    "print(f\"MAE: {mae_ridge:.2f}\")\n",
    "print(f\"RMSE: {rmse_ridge:.2f}\")\n",
    "\n",
    "# Random Forest Regressor\n",
    "rf_model = RandomForestRegressor(n_estimators=100, max_depth=None, random_state=SEED)\n",
    "rf_model.fit(X_train_encoded, y_train)\n",
    "y_pred_rf = rf_model.predict(X_test_encoded)\n",
    "\n",
    "mae_rf = mean_absolute_error(y_test, y_pred_rf)\n",
    "rmse_rf = np.sqrt(mean_squared_error(y_test, y_pred_rf))\n",
    "\n",
    "print(\"\\nRandom Forest Regressor\")\n",
    "print(f\"MAE: {mae_rf:.2f}\")\n",
    "print(f\"RMSE: {rmse_rf:.2f}\")\n"
   ]
  },
  {
   "cell_type": "markdown",
   "metadata": {},
   "source": [
    "### Step 7 – Model Comparison (Compare All Models)"
   ]
  },
  {
   "cell_type": "code",
   "execution_count": 68,
   "metadata": {},
   "outputs": [
    {
     "name": "stdout",
     "output_type": "stream",
     "text": [
      "Model Performance Comparison:\n",
      "               Model         MAE        RMSE\n",
      "0      Random Forest   40.161026   95.755234\n",
      "1   Ridge Regression   73.821275  115.891443\n",
      "2  Linear Regression   77.040617  119.227439\n",
      "3    Baseline (Mean)  126.845122  187.421806\n"
     ]
    },
    {
     "data": {
      "image/png": "[encoded data removed]",
      "text/plain": [
       "<Figure size 1000x400 with 1 Axes>"
      ]
     },
     "metadata": {},
     "output_type": "display_data"
    }
   ],
   "source": [
    "import pandas as pd\n",
    "import matplotlib.pyplot as plt\n",
    "\n",
    "# Create comparison table\n",
    "results = pd.DataFrame({\n",
    "    'Model': ['Baseline (Mean)', 'Linear Regression', 'Ridge Regression', 'Random Forest'],\n",
    "    'MAE': [mae, mae_lr, mae_ridge, mae_rf],\n",
    "    'RMSE': [rmse, rmse_lr, rmse_ridge, rmse_rf]\n",
    "})\n",
    "\n",
    "# Sort by RMSE (lower is better)\n",
    "results = results.sort_values(by='RMSE', ascending=True).reset_index(drop=True)\n",
    "print(\"Model Performance Comparison:\")\n",
    "print(results)\n",
    "\n",
    "# Optional: Bar chart visualization\n",
    "plt.figure(figsize=(10, 4))\n",
    "plt.bar(results['Model'], results['RMSE'], color='skyblue')\n",
    "plt.title('Model RMSE Comparison')\n",
    "plt.ylabel('RMSE')\n",
    "plt.xticks(rotation=15)\n",
    "plt.tight_layout()\n",
    "plt.show()\n"
   ]
  },
  {
   "cell_type": "code",
   "execution_count": 69,
   "metadata": {},
   "outputs": [
    {
     "name": "stdout",
     "output_type": "stream",
     "text": [
      "['id', 'listing_url', 'scrape_id', 'last_scraped', 'source', 'name', 'description', 'neighborhood_overview', 'picture_url', 'host_id', 'host_url', 'host_name', 'host_since', 'host_location', 'host_about', 'host_response_time', 'host_response_rate', 'host_acceptance_rate', 'host_is_superhost', 'host_thumbnail_url', 'host_picture_url', 'host_neighbourhood', 'host_listings_count', 'host_total_listings_count', 'host_verifications', 'host_has_profile_pic', 'host_identity_verified', 'neighbourhood', 'neighbourhood_cleansed', 'neighbourhood_group_cleansed', 'latitude', 'longitude', 'property_type', 'room_type', 'accommodates', 'bathrooms', 'bathrooms_text', 'bedrooms', 'beds', 'amenities', 'price', 'minimum_nights', 'maximum_nights', 'minimum_minimum_nights', 'maximum_minimum_nights', 'minimum_maximum_nights', 'maximum_maximum_nights', 'minimum_nights_avg_ntm', 'maximum_nights_avg_ntm', 'calendar_updated', 'has_availability', 'availability_30', 'availability_60', 'availability_90', 'availability_365', 'calendar_last_scraped', 'number_of_reviews', 'number_of_reviews_ltm', 'number_of_reviews_l30d', 'availability_eoy', 'number_of_reviews_ly', 'estimated_occupancy_l365d', 'estimated_revenue_l365d', 'first_review', 'last_review', 'review_scores_rating', 'review_scores_accuracy', 'review_scores_cleanliness', 'review_scores_checkin', 'review_scores_communication', 'review_scores_location', 'review_scores_value', 'license', 'instant_bookable', 'calculated_host_listings_count', 'calculated_host_listings_count_entire_homes', 'calculated_host_listings_count_private_rooms', 'calculated_host_listings_count_shared_rooms', 'reviews_per_month', 'price_log', 'host_age_days', 'days_since_last_review', 'room_type_Hotel room', 'room_type_Private room', 'room_type_Shared room', 'avg_review_score']\n"
     ]
    }
   ],
   "source": [
    "#checking the available column names\n",
    "from src.preprocessing import build_preprocessing_pipeline\n",
    "import joblib\n",
    "\n",
    "df_raw = pd.read_csv(\"data/processed/featured_listings.csv\")\n",
    "print(df_raw.columns.tolist())"
   ]
  },
  {
   "cell_type": "markdown",
   "metadata": {},
   "source": [
    "### STEP 8: Fit and save preprocessing pipeline before one-hot encoding or model training"
   ]
  },
  {
   "cell_type": "code",
   "execution_count": 70,
   "metadata": {},
   "outputs": [
    {
     "name": "stdout",
     "output_type": "stream",
     "text": [
      "Fitted pipeline saved to models/fitted_pipeline.joblib\n"
     ]
    }
   ],
   "source": [
    "from src.preprocessing import build_preprocessing_pipeline\n",
    "import joblib\n",
    "import pandas as pd\n",
    "\n",
    "# Load the featured dataset\n",
    "df_raw = pd.read_csv(\"data/processed/featured_listings.csv\")\n",
    "\n",
    "# Define feature columns (should match training features)\n",
    "numerical_features = [\n",
    "    'accommodates', 'bathrooms', 'bedrooms', 'beds', 'minimum_nights', 'maximum_nights',\n",
    "    'number_of_reviews', 'review_scores_rating'\n",
    "]\n",
    "\n",
    "categorical_features = [\n",
    "    'host_is_superhost', 'instant_bookable', 'neighbourhood_cleansed', 'room_type'\n",
    "]\n",
    "\n",
    "all_features = numerical_features + categorical_features\n",
    "\n",
    "# Subset just the features used in modeling\n",
    "X_raw = df_raw[all_features].copy()\n",
    "\n",
    "# Build and fit preprocessing pipeline\n",
    "pipeline, _, _ = build_preprocessing_pipeline()\n",
    "pipeline.fit(X_raw)\n",
    "\n",
    "# Save fitted pipeline for later use in prediction\n",
    "joblib.dump(pipeline, \"models/fitted_pipeline.joblib\")\n",
    "print(\"Fitted pipeline saved to models/fitted_pipeline.joblib\")\n",
    "\n",
    "\n",
    "\n",
    "\n"
   ]
  },
  {
   "cell_type": "markdown",
   "metadata": {},
   "source": [
    "### Step 8: Save the Best Model + Prepare for Deployment (pickle, joblib, etc.)"
   ]
  },
  {
   "cell_type": "markdown",
   "metadata": {},
   "source": [
    "- pip install joblib (First through terminal)\n",
    "- Then Save model + columns as below"
   ]
  },
  {
   "cell_type": "code",
   "execution_count": 71,
   "metadata": {},
   "outputs": [
    {
     "name": "stdout",
     "output_type": "stream",
     "text": [
      "Model saved to: models\\random_forest_model.joblib\n",
      "Feature columns saved to: models\\model_columns.joblib\n"
     ]
    }
   ],
   "source": [
    "import joblib\n",
    "#from pathlib import Path\n",
    "\n",
    "# Step 1: Define path to models folder relative to current working directory\n",
    "models_dir = Path(\"models\")\n",
    "models_dir.mkdir(parents=True, exist_ok=True)  # create folder if it doesn't exist\n",
    "\n",
    "# Step 2: Save Random Forest model\n",
    "model_path = models_dir / \"random_forest_model.joblib\"\n",
    "joblib.dump(rf_model, model_path)\n",
    "\n",
    "# Step 3: Save training column names\n",
    "columns_path = models_dir / \"model_columns.joblib\"\n",
    "joblib.dump(X_train_encoded.columns.tolist(), columns_path)\n",
    "\n",
    "print(f\"Model saved to: {model_path}\")\n",
    "print(f\"Feature columns saved to: {columns_path}\")\n"
   ]
  },
  {
   "cell_type": "markdown",
   "metadata": {},
   "source": [
    "### Step 9 - Created a train_model.py at route of the project. Now I need to run that file to train the model.\n",
    "#### run the file using this code: python train_model.py in ml_airbnb_price_regression directory."
   ]
  },
  {
   "cell_type": "markdown",
   "metadata": {},
   "source": [
    "### Step 10 - Created predict.py in src folder for predicting the price"
   ]
  },
  {
   "cell_type": "markdown",
   "metadata": {},
   "source": [
    "### Step 11 - Prediction on the data\n",
    "##### Now that we have our model, we can use it to make predictions on the data.\n",
    "##### On terminal or VSCODE pwsh , run the following command: python src/predict.py sample_listing.json"
   ]
  },
  {
   "cell_type": "markdown",
   "metadata": {},
   "source": [
    "### Step 9 – Build a predict_price() Function\n",
    "\n",
    "I need a reusable function that takes new input data, processes it exactly like my training data, and returns a predicted price. This is what I do in a real deployment scenario like a Flask API, Streamlit app, or batch prediction job.\n",
    "\n",
    "What This Function Should Do:\n",
    "Accept: a new listing (as a dictionary or DataFrame row)\n",
    "\n",
    "Preprocess:\n",
    "\n",
    "- One-hot encode categorical variables\n",
    "\n",
    "- Align with training columns\n",
    "\n",
    "- Fill missing values\n",
    "\n",
    "Load:\n",
    "\n",
    "- Trained model (random_forest_model.pkl)\n",
    "\n",
    "- Model columns (model_columns.pkl)\n",
    "\n",
    "- Predict: using the model\n",
    "\n",
    "- Return: the predicted price"
   ]
  },
  {
   "cell_type": "markdown",
   "metadata": {},
   "source": [
    "### Step 9 – Initial Version of `predict_price()`\n",
    "This was the first working version of the `predict_price()` function. It loads a saved Random Forest model and column list, prepares input data, and returns a nightly price prediction. In upcoming cells I will refine this function to improve performance and accuracy. SO if I want to see the first version in action, I need to change the below cell to Code."
   ]
  },
  {
   "cell_type": "markdown",
   "metadata": {},
   "source": [
    "import joblib\n",
    "import pandas as pd\n",
    "import numpy as np\n",
    "from pathlib import Path\n",
    "\n",
    "def predict_price(input_data):\n",
    "    \"\"\"\n",
    "    Predicts the Airbnb listing price for a new sample based on a trained Random Forest model.\n",
    "\n",
    "    Parameters:\n",
    "    - input_data (dict or pd.Series): New listing information.\n",
    "\n",
    "    Returns:\n",
    "    - float: Predicted price in CAD\n",
    "    \"\"\"\n",
    "    # Load trained model and training columns\n",
    "    model = joblib.load(\"models/random_forest_model.joblib\")\n",
    "    model_columns = joblib.load(\"models/model_columns.joblib\")\n",
    "\n",
    "    # Convert input to DataFrame\n",
    "    if isinstance(input_data, dict):\n",
    "        input_df = pd.DataFrame([input_data])\n",
    "    else:\n",
    "        input_df = pd.DataFrame([input_data.to_dict()])\n",
    "\n",
    "    print(\"Input listing features:\")\n",
    "    display(input_df)\n",
    "\n",
    "    # One-hot encode categorical variables\n",
    "    input_encoded = pd.get_dummies(input_df)\n",
    "\n",
    "    # Align input with model columns (add missing columns as 0)\n",
    "    input_aligned = input_encoded.reindex(columns=model_columns, fill_value=0)\n",
    "\n",
    "    # Predict using the trained model\n",
    "    predicted_price = model.predict(input_aligned)[0]\n",
    "    predicted_price = float(predicted_price)\n",
    "\n",
    "    # Output the result with explanation\n",
    "    print(\"\\nHow this works:\")\n",
    "    print(\"- The input listing is first converted to a structured DataFrame.\")\n",
    "    print(\"- Categorical features like 'room_type' and 'neighbourhood' are one-hot encoded.\")\n",
    "    print(\"- We match the structure of training features exactly to avoid mismatches.\")\n",
    "    print(\"- The trained Random Forest model then predicts the price based on these inputs.\\n\")\n",
    "\n",
    "    print(f\"Predicted price for this listing: **${predicted_price:.2f} CAD**\")\n",
    "    print(f\"This is the estimated price per night (in CAD) for the listing described above.\")\n",
    "\n",
    "\n",
    "    return predicted_price\n"
   ]
  },
  {
   "cell_type": "markdown",
   "metadata": {},
   "source": [
    "sample_input = {\n",
    "    'host_is_superhost': True,\n",
    "    'room_type': 'Entire home/apt',\n",
    "    'accommodates': 4,\n",
    "    'bathrooms': 1.0,\n",
    "    'bedrooms': 2,\n",
    "    'beds': 2,\n",
    "    'price': 150,\n",
    "    'minimum_nights': 2,\n",
    "    'maximum_nights': 1125,\n",
    "    'number_of_reviews': 24,\n",
    "    'instant_bookable': False,\n",
    "    'review_scores_rating': 95.0,\n",
    "    'neighbourhood_cleansed': 'Downtown'\n",
    "}\n",
    "\n",
    "predict_price(sample_input)\n"
   ]
  },
  {
   "cell_type": "markdown",
   "metadata": {},
   "source": [
    "### Step 9 – Enhanced predict_price() Function for Production Readiness\n",
    "This version is built for real-world deployment scenarios such as APIs, Streamlit apps, or batch pipelines. It improves the original function by adding:\n",
    "\n",
    "Input Flexibility: Accepts input as a dict, Series, or DataFrame.\n",
    "\n",
    "Field Validation: Ensures all required fields are present.\n",
    "\n",
    "Type Checking: Verifies numerical fields are valid numbers.\n",
    "\n",
    "Smart Preprocessing: Uses a scikit-learn pipeline with:\n",
    "\n",
    "- SimpleImputer to fill missing numerical values using training-time strategies.\n",
    "\n",
    "- OneHotEncoder for robust categorical handling (supports unseen categories).\n",
    "\n",
    "Training Consistency: Aligns features with the original model's structure.\n",
    "\n",
    "Logging: Adds runtime logs to trace behavior and debugging.\n",
    "\n",
    "Error Handling: Raises meaningful exceptions on invalid input.\n",
    "\n",
    "This mirrors what a backend function would look like when serving predictions in production or embedded into a larger system.\n"
   ]
  },
  {
   "cell_type": "markdown",
   "metadata": {},
   "source": [
    "#### This code was for creating predct.py in the notebook instead.\n",
    "import pandas as pd\n",
    "import numpy as np\n",
    "from sklearn.pipeline import Pipeline\n",
    "from sklearn.compose import ColumnTransformer\n",
    "from sklearn.impute import SimpleImputer\n",
    "from sklearn.preprocessing import OneHotEncoder\n",
    "import logging\n",
    "\n",
    "# Setup logging\n",
    "logging.basicConfig(level=logging.INFO)\n",
    "\n",
    "# Load trained model and model columns\n",
    "model = joblib.load(\"models/random_forest_model.joblib\")\n",
    "model_columns = joblib.load(\"models/model_columns.joblib\")\n",
    "\n",
    "# Define preprocessing pipeline\n",
    "numerical_features = ['accommodates', 'bathrooms', 'bedrooms', 'beds', 'minimum_nights',\n",
    "                      'maximum_nights', 'number_of_reviews', 'review_scores_rating']\n",
    "categorical_features = ['host_is_superhost', 'room_type', 'instant_bookable', 'neighbourhood_cleansed']\n",
    "\n",
    "numerical_transformer = SimpleImputer(strategy='mean')\n",
    "categorical_transformer = OneHotEncoder(handle_unknown='ignore')\n",
    "\n",
    "preprocessor = ColumnTransformer(\n",
    "    transformers=[\n",
    "        ('num', numerical_transformer, numerical_features),\n",
    "        ('cat', categorical_transformer, categorical_features)\n",
    "    ])\n",
    "\n",
    "pipeline = Pipeline(steps=[('preprocessor', preprocessor)])\n",
    "\n",
    "def predict_price_advanced(input_data):\n",
    "    \"\"\"\n",
    "    Enhanced price prediction with:\n",
    "    - Input validation\n",
    "    - Type checking\n",
    "    - Scikit-learn preprocessing pipeline\n",
    "    - Error handling and logging\n",
    "    - Explanation of each step for clarity\n",
    "    \"\"\"\n",
    "    # Convert to DataFrame\n",
    "    if isinstance(input_data, dict):\n",
    "        input_df = pd.DataFrame([input_data])\n",
    "    elif isinstance(input_data, pd.Series):\n",
    "        input_df = pd.DataFrame([input_data.to_dict()])\n",
    "    elif isinstance(input_data, pd.DataFrame):\n",
    "        input_df = input_data.copy()\n",
    "    else:\n",
    "        raise ValueError(\"Input must be a dict, pd.Series, or pd.DataFrame\")\n",
    "\n",
    "    # Validate required fields\n",
    "    required_fields = numerical_features + categorical_features\n",
    "    missing_fields = [f for f in required_fields if f not in input_df.columns]\n",
    "    if missing_fields:\n",
    "        raise ValueError(f\"Missing required fields: {missing_fields}\")\n",
    "\n",
    "    # Type checking\n",
    "    for field in numerical_features:\n",
    "        if not np.issubdtype(input_df[field].dtype, np.number):\n",
    "            raise TypeError(f\"Field '{field}' must be numeric\")\n",
    "\n",
    "    # Preprocess\n",
    "    logging.info(\"Preprocessing input...\")\n",
    "    processed_input = pipeline.fit_transform(input_df)\n",
    "\n",
    "    # Align with training columns\n",
    "    encoded_df = pd.DataFrame(\n",
    "        processed_input.toarray() if hasattr(processed_input, 'toarray') else processed_input\n",
    "    )\n",
    "    encoded_df = encoded_df.reindex(columns=model_columns, fill_value=0)\n",
    "\n",
    "    # Predict\n",
    "    prediction = model.predict(encoded_df)[0]\n",
    "    prediction = round(float(prediction), 2)\n",
    "\n",
    "    # Explanation\n",
    "    print(\"\\nHow this works:\")\n",
    "    print(\"- The input listing is validated and converted to a DataFrame.\")\n",
    "    print(\"- Numerical features are imputed (missing values filled with mean).\")\n",
    "    print(\"- Categorical variables are one-hot encoded using scikit-learn.\")\n",
    "    print(\"- The resulting input is aligned with the original training columns.\")\n",
    "    print(\"- Finally, the trained Random Forest model predicts the price.\\n\")\n",
    "    print(f\"Predicted price for this listing: ${prediction:.2f} CAD\")\n",
    "    print(\"This is the estimated price per night (in CAD) for the listing provided above.\")\n",
    "\n",
    "    return prediction\n"
   ]
  },
  {
   "cell_type": "markdown",
   "metadata": {},
   "source": [
    "sample_input = {\n",
    "    'host_is_superhost': True,\n",
    "    'room_type': 'Entire home/apt',\n",
    "    'accommodates': 4,\n",
    "    'bathrooms': 2.0,\n",
    "    'bedrooms': 4,\n",
    "    'beds': 5,\n",
    "    'price': 260,\n",
    "    'minimum_nights': 2,\n",
    "    'maximum_nights': 1000,\n",
    "    'number_of_reviews': 12,\n",
    "    'instant_bookable': False,\n",
    "    'review_scores_rating': 90.0,\n",
    "    'neighbourhood_cleansed': 'Downtown'\n",
    "}\n",
    "\n",
    "predict_price_advanced(sample_input)\n",
    "\n"
   ]
  },
  {
   "cell_type": "code",
   "execution_count": 56,
   "metadata": {},
   "outputs": [
    {
     "name": "stdout",
     "output_type": "stream",
     "text": [
      "Notebook Path: C:\\Users\\Babak.Baradaranhezav\\ml-projects\\ml_airbnb_price_regression\n",
      "src exists: False\n",
      "predict.py exists: False\n"
     ]
    }
   ],
   "source": [
    "import os\n",
    "print(\"Notebook Path:\", Path().resolve())\n",
    "print(\"src exists:\", (Path().resolve().parents[0] / \"src\").exists())\n",
    "print(\"predict.py exists:\", (Path().resolve().parents[0] / \"src\" / \"predict.py\").exists())\n"
   ]
  },
  {
   "cell_type": "code",
   "execution_count": 57,
   "metadata": {},
   "outputs": [
    {
     "name": "stdout",
     "output_type": "stream",
     "text": [
      "['Path', '__builtins__', '__cached__', '__doc__', '__file__', '__loader__', '__name__', '__package__', '__spec__', 'build_preprocessing_pipeline', 'categorical_features', 'datetime', 'joblib', 'log_dir', 'logging', 'model', 'model_columns', 'np', 'numerical_features', 'pd', 'pipeline', 'predict_price_advanced_module', 'project_root', 'sys', 'uuid']\n"
     ]
    }
   ],
   "source": [
    "import inspect\n",
    "import src.predict\n",
    "\n",
    "print(dir(src.predict))  # Lists everything defined in the module\n"
   ]
  },
  {
   "cell_type": "code",
   "execution_count": 74,
   "metadata": {},
   "outputs": [
    {
     "name": "stderr",
     "output_type": "stream",
     "text": [
      "INFO:root:Request ID: 26d3b1d2-ab1e-40e3-8db0-2b1519ef4994\n",
      "Timestamp : 2025-07-23T22:58:11.564943\n",
      "Input     : host_is_superhost=True, room_type=Entire home/apt, accommodates=4, bathrooms=1.0, bedrooms=2, beds=2, price=150, minimum_nights=2, maximum_nights=1125, number_of_reviews=24, instant_bookable=False, review_scores_rating=95.0, neighbourhood_cleansed=Downtown\n",
      "Prediction: $411.85 CAD\n",
      "\n",
      "\n"
     ]
    },
    {
     "name": "stdout",
     "output_type": "stream",
     "text": [
      "\n",
      "How this works:\n",
      "- Input is validated and converted to DataFrame.\n",
      "- Numerical fields are imputed using means.\n",
      "- Categorical fields are one-hot encoded.\n",
      "- Result is aligned with model training features.\n",
      "- Prediction is made using the trained model.\n",
      "\n",
      "Predicted price for this listing: $411.85 CAD\n",
      "This is the estimated price per night (in CAD) for the listing described above.\n"
     ]
    },
    {
     "data": {
      "text/plain": [
       "411.85"
      ]
     },
     "execution_count": 74,
     "metadata": {},
     "output_type": "execute_result"
    }
   ],
   "source": [
    "import sys\n",
    "import importlib\n",
    "from pathlib import Path\n",
    "\n",
    "# Ensure src is in path\n",
    "project_root = Path().resolve()\n",
    "src_path = str(project_root / \"src\")\n",
    "if src_path not in sys.path:\n",
    "    sys.path.insert(0, src_path)\n",
    "\n",
    "# Force reload\n",
    "import src.predict\n",
    "importlib.reload(src.predict)\n",
    "\n",
    "from src.predict import predict_price_advanced_module\n",
    "\n",
    "\n",
    "\n",
    "sample_input = {\n",
    "    'host_is_superhost': True,\n",
    "    'room_type': 'Entire home/apt',\n",
    "    'accommodates': 4,\n",
    "    'bathrooms': 1.0,\n",
    "    'bedrooms': 2,\n",
    "    'beds': 2,\n",
    "    'price': 150,\n",
    "    'minimum_nights': 2,\n",
    "    'maximum_nights': 1125,\n",
    "    'number_of_reviews': 24,\n",
    "    'instant_bookable': False,\n",
    "    'review_scores_rating': 95.0,\n",
    "    'neighbourhood_cleansed': 'Downtown'\n",
    "}\n",
    "\n",
    "predict_price_advanced_module(sample_input)\n"
   ]
  },
  {
   "cell_type": "code",
   "execution_count": null,
   "metadata": {},
   "outputs": [],
   "source": []
  }
 ],
 "metadata": {
  "kernelspec": {
   "display_name": "Python 3",
   "language": "python",
   "name": "python3"
  },
  "language_info": {
   "codemirror_mode": {
    "name": "ipython",
    "version": 3
   },
   "file_extension": ".py",
   "mimetype": "text/x-python",
   "name": "python",
   "nbconvert_exporter": "python",
   "pygments_lexer": "ipython3",
   "version": "3.11.9"
  }
 },
 "nbformat": 4,
 "nbformat_minor": 2
}
