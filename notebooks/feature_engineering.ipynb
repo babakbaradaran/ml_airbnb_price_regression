{
 "cells": [
  {
   "cell_type": "code",
   "execution_count": 8,
   "metadata": {},
   "outputs": [
    {
     "name": "stdout",
     "output_type": "stream",
     "text": [
      "Current working directory: c:\\Users\\Babak.Baradaranhezav\\ml-projects\\ml_airbnb_price_regression\n"
     ]
    }
   ],
   "source": [
    "import os\n",
    "\n",
    "print(\"Current working directory:\", os.getcwd())"
   ]
  },
  {
   "cell_type": "code",
   "execution_count": 9,
   "metadata": {},
   "outputs": [
    {
     "name": "stdout",
     "output_type": "stream",
     "text": [
      "Already in repo root: c:\\Users\\Babak.Baradaranhezav\\ml-projects\\ml_airbnb_price_regression\n"
     ]
    }
   ],
   "source": [
    "from pathlib import Path\n",
    "import os\n",
    "\n",
    "# Set working directory only if not already set\n",
    "cwd = Path.cwd()\n",
    "if not (cwd / \".git\").exists():\n",
    "    for parent in cwd.parents:\n",
    "        if (parent / \".git\").exists():\n",
    "            os.chdir(parent)\n",
    "            print(\"Working directory set to repo root:\", parent)\n",
    "            break\n",
    "    else:\n",
    "        raise FileNotFoundError(\"Could not find .git repo root. Are you inside the correct project folder?\")\n",
    "else:\n",
    "    print(\"Already in repo root:\", cwd)\n"
   ]
  },
  {
   "cell_type": "code",
   "execution_count": 10,
   "metadata": {},
   "outputs": [],
   "source": [
    "# Import libraries\n",
    "import pandas as pd\n",
    "import numpy as np\n",
    "import matplotlib.pyplot as plt\n",
    "import seaborn as sns\n",
    "\n",
    "# Load cleaned EDA data\n",
    "df = pd.read_csv('data/processed/cleaned_listings.csv')  # Update this path as needed"
   ]
  },
  {
   "cell_type": "markdown",
   "metadata": {},
   "source": [
    "## Step 1: Feature Engineering – Host Age\n",
    "\n",
    "**Problem**  \n",
    "`host_since` is a date column but stored as text. We want to understand how experienced a host is.\n",
    "\n",
    "**Goal**  \n",
    "Calculate how long a host has been active (in days).\n",
    "\n",
    "**Approach**  \n",
    "Convert `host_since` to datetime, and subtract from today to get `host_age_days`."
   ]
  },
  {
   "cell_type": "code",
   "execution_count": 11,
   "metadata": {},
   "outputs": [
    {
     "name": "stdout",
     "output_type": "stream",
     "text": [
      "'host_since' converted and 'host_age_days' created.\n"
     ]
    }
   ],
   "source": [
    "# Convert host_since to datetime\n",
    "if 'host_since' in df.columns:\n",
    "    df['host_since'] = pd.to_datetime(df['host_since'], errors='coerce')\n",
    "    df['host_age_days'] = (pd.to_datetime('today') - df['host_since']).dt.days\n",
    "    print(\"'host_since' converted and 'host_age_days' created.\")\n",
    "else:\n",
    "    print(\"'host_since' not found in dataset.\")"
   ]
  },
  {
   "cell_type": "markdown",
   "metadata": {},
   "source": [
    "## Step 2: Feature Engineering – First Review & Categorical Encoding\n",
    "\n",
    "**Problem**  \n",
    "- `last_review` is a date stored as text.\n",
    "- Categorical features like `room_type` must be encoded.\n",
    "\n",
    "**Goal**  \n",
    "Convert `last_review` into `days_since_last_review` and one-hot encode selected categorical variables.\n",
    "\n",
    "**Approach**  \n",
    "- Convert `last_review` to datetime.\n",
    "- One-hot encode `room_type`."
   ]
  },
  {
   "cell_type": "code",
   "execution_count": 12,
   "metadata": {},
   "outputs": [
    {
     "name": "stdout",
     "output_type": "stream",
     "text": [
      "Feature engineered: days_since_last_review\n",
      "One-hot encoded: room_type\n"
     ]
    }
   ],
   "source": [
    "# Convert 'last_review' to datetime\n",
    "if 'last_review' in df.columns:\n",
    "    df['last_review'] = pd.to_datetime(df['last_review'], errors='coerce')\n",
    "    df['days_since_last_review'] = (pd.Timestamp('today') - df['last_review']).dt.days\n",
    "    print(\"Feature engineered: days_since_last_review\")\n",
    "else:\n",
    "    print(\"'last_review' column not found. Skipping.\")\n",
    "\n",
    "# One-hot encode room_type\n",
    "cat_cols = ['room_type']\n",
    "for col in cat_cols:\n",
    "    if col in df.columns:\n",
    "        one_hot = pd.get_dummies(df[col], prefix=col, drop_first=True)\n",
    "        df = pd.concat([df, one_hot], axis=1)\n",
    "        print(f\"One-hot encoded: {col}\")\n",
    "    else:\n",
    "        print(f\"Column '{col}' not found.\")"
   ]
  },
  {
   "cell_type": "markdown",
   "metadata": {},
   "source": [
    "### Step 3: Feature Engineering – Review Scores\n",
    "\n",
    "**Problem**  \n",
    "Many review score columns (like `review_scores_rating`, `review_scores_accuracy`, etc.) are numeric but may have missing values.\n",
    "\n",
    "**Goal**  \n",
    "- Understand how well-rated each listing is.\n",
    "- Create an aggregate score or handle missing scores properly.\n",
    "\n",
    "**Approach**  \n",
    "- Identify all review score columns.\n",
    "- Fill missing values with column means or flags.\n",
    "- (Optional) Create an average score column.\n"
   ]
  },
  {
   "cell_type": "code",
   "execution_count": 13,
   "metadata": {},
   "outputs": [
    {
     "name": "stdout",
     "output_type": "stream",
     "text": [
      "Found review score columns: ['review_scores_rating', 'review_scores_accuracy', 'review_scores_cleanliness', 'review_scores_checkin', 'review_scores_communication', 'review_scores_location', 'review_scores_value']\n",
      "Filled missing values in 'review_scores_rating' with column mean.\n",
      "Filled missing values in 'review_scores_accuracy' with column mean.\n",
      "Filled missing values in 'review_scores_cleanliness' with column mean.\n",
      "Filled missing values in 'review_scores_checkin' with column mean.\n",
      "Filled missing values in 'review_scores_communication' with column mean.\n",
      "Filled missing values in 'review_scores_location' with column mean.\n",
      "Filled missing values in 'review_scores_value' with column mean.\n",
      "Created 'avg_review_score' column.\n"
     ]
    }
   ],
   "source": [
    "# Identify review score columns\n",
    "review_cols = [col for col in df.columns if col.startswith('review_scores_')]\n",
    "print(f\"Found review score columns: {review_cols}\")\n",
    "\n",
    "# Fill missing values with column means\n",
    "for col in review_cols:\n",
    "    if df[col].dtype in ['float64', 'int64']:\n",
    "        df[col] = df[col].fillna(df[col].mean())\n",
    "        print(f\"Filled missing values in '{col}' with column mean.\")\n",
    "\n",
    "# Optional: Create a total or average score\n",
    "if review_cols:\n",
    "    df['avg_review_score'] = df[review_cols].mean(axis=1)\n",
    "    print(\"Created 'avg_review_score' column.\")\n"
   ]
  },
  {
   "cell_type": "markdown",
   "metadata": {},
   "source": [
    "### Step 5: Save Feature-Engineered Dataset"
   ]
  },
  {
   "cell_type": "code",
   "execution_count": 14,
   "metadata": {},
   "outputs": [
    {
     "name": "stdout",
     "output_type": "stream",
     "text": [
      "Saved feature-engineered dataset.\n"
     ]
    }
   ],
   "source": [
    "# Save processed dataset for modeling\n",
    "df.to_csv('data/processed/featured_listings.csv', index=False)\n",
    "print(\"Saved feature-engineered dataset.\")"
   ]
  },
  {
   "cell_type": "code",
   "execution_count": null,
   "metadata": {},
   "outputs": [],
   "source": []
  }
 ],
 "metadata": {
  "kernelspec": {
   "display_name": "Python 3",
   "language": "python",
   "name": "python3"
  },
  "language_info": {
   "codemirror_mode": {
    "name": "ipython",
    "version": 3
   },
   "file_extension": ".py",
   "mimetype": "text/x-python",
   "name": "python",
   "nbconvert_exporter": "python",
   "pygments_lexer": "ipython3",
   "version": "3.11.9"
  }
 },
 "nbformat": 4,
 "nbformat_minor": 2
}
