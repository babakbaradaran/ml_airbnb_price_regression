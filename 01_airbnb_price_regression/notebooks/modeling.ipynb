{
 "cells": [
  {
   "cell_type": "markdown",
   "metadata": {},
   "source": [
    "### Step 1 – Load Data"
   ]
  },
  {
   "cell_type": "code",
   "execution_count": 9,
   "metadata": {},
   "outputs": [
    {
     "name": "stdout",
     "output_type": "stream",
     "text": [
      "Current working directory: /\n"
     ]
    }
   ],
   "source": [
    "import os\n",
    "\n",
    "print(\"Current working directory:\", os.getcwd())"
   ]
  },
  {
   "cell_type": "code",
   "execution_count": 10,
   "metadata": {},
   "outputs": [
    {
     "name": "stdout",
     "output_type": "stream",
     "text": [
      "Now working in: /Users/babak/Github/ml-projects/01_airbnb_price_regression/notebooks\n"
     ]
    }
   ],
   "source": [
    "# Manually set the working directory to your notebook location\n",
    "target_dir = \"/Users/babak/Github/ml-projects/01_airbnb_price_regression/notebooks\"\n",
    "os.chdir(target_dir)\n",
    "\n",
    "print(\"Now working in:\", os.getcwd())"
   ]
  },
  {
   "cell_type": "code",
   "execution_count": 11,
   "metadata": {},
   "outputs": [
    {
     "name": "stdout",
     "output_type": "stream",
     "text": [
      "Loaded data with shape: (5596, 23)\n"
     ]
    },
    {
     "data": {
      "application/vnd.microsoft.datawrangler.viewer.v0+json": {
       "columns": [
        {
         "name": "index",
         "rawType": "int64",
         "type": "integer"
        },
        {
         "name": "id",
         "rawType": "int64",
         "type": "integer"
        },
        {
         "name": "name",
         "rawType": "object",
         "type": "string"
        },
        {
         "name": "host_id",
         "rawType": "int64",
         "type": "integer"
        },
        {
         "name": "host_name",
         "rawType": "object",
         "type": "string"
        },
        {
         "name": "neighbourhood_group",
         "rawType": "float64",
         "type": "float"
        },
        {
         "name": "neighbourhood",
         "rawType": "object",
         "type": "string"
        },
        {
         "name": "latitude",
         "rawType": "float64",
         "type": "float"
        },
        {
         "name": "longitude",
         "rawType": "float64",
         "type": "float"
        },
        {
         "name": "room_type",
         "rawType": "object",
         "type": "string"
        },
        {
         "name": "price",
         "rawType": "float64",
         "type": "float"
        },
        {
         "name": "minimum_nights",
         "rawType": "int64",
         "type": "integer"
        },
        {
         "name": "number_of_reviews",
         "rawType": "int64",
         "type": "integer"
        },
        {
         "name": "last_review",
         "rawType": "object",
         "type": "string"
        },
        {
         "name": "reviews_per_month",
         "rawType": "float64",
         "type": "float"
        },
        {
         "name": "calculated_host_listings_count",
         "rawType": "int64",
         "type": "integer"
        },
        {
         "name": "availability_365",
         "rawType": "int64",
         "type": "integer"
        },
        {
         "name": "number_of_reviews_ltm",
         "rawType": "int64",
         "type": "integer"
        },
        {
         "name": "license",
         "rawType": "object",
         "type": "unknown"
        },
        {
         "name": "price_log",
         "rawType": "float64",
         "type": "float"
        },
        {
         "name": "days_since_last_review",
         "rawType": "float64",
         "type": "float"
        },
        {
         "name": "room_type_Hotel room",
         "rawType": "bool",
         "type": "boolean"
        },
        {
         "name": "room_type_Private room",
         "rawType": "bool",
         "type": "boolean"
        },
        {
         "name": "room_type_Shared room",
         "rawType": "bool",
         "type": "boolean"
        }
       ],
       "ref": "9744ea3d-942f-468e-8ebd-3db52b5a41b8",
       "rows": [
        [
         "0",
         "13188",
         "Garden level studio in ideal loc.",
         "51466",
         "Emma",
         null,
         "Riley Park",
         "49.24773",
         "-123.10509",
         "Entire home/apt",
         "136.0",
         "2",
         "350",
         "2025-05-04",
         "1.89",
         "1",
         "109",
         "56",
         "Municipal registration number: 25-156058<br />Provincial registration number: H403372913",
         "4.919980925828125",
         "66.0",
         "False",
         "False",
         "False"
        ],
        [
         "1",
         "13358",
         "Downtown Designer suite",
         "52116",
         "Lynn",
         null,
         "Downtown",
         "49.28117370605469",
         "-123.1259307861328",
         "Entire home/apt",
         "225.0",
         "1",
         "565",
         "2025-05-04",
         "3.11",
         "1",
         "135",
         "50",
         "Municipal registration number: 25-157257",
         "5.420534999272286",
         "66.0",
         "False",
         "False",
         "False"
        ],
        [
         "2",
         "16254",
         "Close to PNE/Hastings Park Garden level suite",
         "63238",
         "Jason",
         null,
         "Hastings-Sunrise",
         "49.27721",
         "-123.04086",
         "Entire home/apt",
         "680.0",
         "5",
         "7",
         "2022-07-30",
         "0.09",
         "1",
         "249",
         "0",
         null,
         "6.523562306149512",
         "1075.0",
         "False",
         "False",
         "False"
        ],
        [
         "3",
         "16611",
         "1 block to skytrain station, shops,restaurant,bank",
         "58512",
         "Q",
         null,
         "Grandview-Woodland",
         "49.26339",
         "-123.07145",
         "Entire home/apt",
         null,
         "365",
         "3",
         "2018-02-16",
         "0.03",
         "5",
         "89",
         "0",
         null,
         null,
         "2700.0",
         "False",
         "False",
         "False"
        ],
        [
         "4",
         "17765",
         "Central location, nice little apartment",
         "68672",
         "James",
         null,
         "Mount Pleasant",
         "49.26132",
         "-123.10845",
         "Entire home/apt",
         null,
         "5",
         "203",
         "2021-10-01",
         "1.32",
         "1",
         "0",
         "0",
         "Municipal registration number: 21-156705",
         null,
         "1377.0",
         "False",
         "False",
         "False"
        ]
       ],
       "shape": {
        "columns": 23,
        "rows": 5
       }
      },
      "text/html": [
       "<div>\n",
       "<style scoped>\n",
       "    .dataframe tbody tr th:only-of-type {\n",
       "        vertical-align: middle;\n",
       "    }\n",
       "\n",
       "    .dataframe tbody tr th {\n",
       "        vertical-align: top;\n",
       "    }\n",
       "\n",
       "    .dataframe thead th {\n",
       "        text-align: right;\n",
       "    }\n",
       "</style>\n",
       "<table border=\"1\" class=\"dataframe\">\n",
       "  <thead>\n",
       "    <tr style=\"text-align: right;\">\n",
       "      <th></th>\n",
       "      <th>id</th>\n",
       "      <th>name</th>\n",
       "      <th>host_id</th>\n",
       "      <th>host_name</th>\n",
       "      <th>neighbourhood_group</th>\n",
       "      <th>neighbourhood</th>\n",
       "      <th>latitude</th>\n",
       "      <th>longitude</th>\n",
       "      <th>room_type</th>\n",
       "      <th>price</th>\n",
       "      <th>...</th>\n",
       "      <th>reviews_per_month</th>\n",
       "      <th>calculated_host_listings_count</th>\n",
       "      <th>availability_365</th>\n",
       "      <th>number_of_reviews_ltm</th>\n",
       "      <th>license</th>\n",
       "      <th>price_log</th>\n",
       "      <th>days_since_last_review</th>\n",
       "      <th>room_type_Hotel room</th>\n",
       "      <th>room_type_Private room</th>\n",
       "      <th>room_type_Shared room</th>\n",
       "    </tr>\n",
       "  </thead>\n",
       "  <tbody>\n",
       "    <tr>\n",
       "      <th>0</th>\n",
       "      <td>13188</td>\n",
       "      <td>Garden level studio in ideal loc.</td>\n",
       "      <td>51466</td>\n",
       "      <td>Emma</td>\n",
       "      <td>NaN</td>\n",
       "      <td>Riley Park</td>\n",
       "      <td>49.247730</td>\n",
       "      <td>-123.105090</td>\n",
       "      <td>Entire home/apt</td>\n",
       "      <td>136.0</td>\n",
       "      <td>...</td>\n",
       "      <td>1.89</td>\n",
       "      <td>1</td>\n",
       "      <td>109</td>\n",
       "      <td>56</td>\n",
       "      <td>Municipal registration number: 25-156058&lt;br /&gt;...</td>\n",
       "      <td>4.919981</td>\n",
       "      <td>66.0</td>\n",
       "      <td>False</td>\n",
       "      <td>False</td>\n",
       "      <td>False</td>\n",
       "    </tr>\n",
       "    <tr>\n",
       "      <th>1</th>\n",
       "      <td>13358</td>\n",
       "      <td>Downtown Designer suite</td>\n",
       "      <td>52116</td>\n",
       "      <td>Lynn</td>\n",
       "      <td>NaN</td>\n",
       "      <td>Downtown</td>\n",
       "      <td>49.281174</td>\n",
       "      <td>-123.125931</td>\n",
       "      <td>Entire home/apt</td>\n",
       "      <td>225.0</td>\n",
       "      <td>...</td>\n",
       "      <td>3.11</td>\n",
       "      <td>1</td>\n",
       "      <td>135</td>\n",
       "      <td>50</td>\n",
       "      <td>Municipal registration number: 25-157257</td>\n",
       "      <td>5.420535</td>\n",
       "      <td>66.0</td>\n",
       "      <td>False</td>\n",
       "      <td>False</td>\n",
       "      <td>False</td>\n",
       "    </tr>\n",
       "    <tr>\n",
       "      <th>2</th>\n",
       "      <td>16254</td>\n",
       "      <td>Close to PNE/Hastings Park Garden level suite</td>\n",
       "      <td>63238</td>\n",
       "      <td>Jason</td>\n",
       "      <td>NaN</td>\n",
       "      <td>Hastings-Sunrise</td>\n",
       "      <td>49.277210</td>\n",
       "      <td>-123.040860</td>\n",
       "      <td>Entire home/apt</td>\n",
       "      <td>680.0</td>\n",
       "      <td>...</td>\n",
       "      <td>0.09</td>\n",
       "      <td>1</td>\n",
       "      <td>249</td>\n",
       "      <td>0</td>\n",
       "      <td>NaN</td>\n",
       "      <td>6.523562</td>\n",
       "      <td>1075.0</td>\n",
       "      <td>False</td>\n",
       "      <td>False</td>\n",
       "      <td>False</td>\n",
       "    </tr>\n",
       "    <tr>\n",
       "      <th>3</th>\n",
       "      <td>16611</td>\n",
       "      <td>1 block to skytrain station, shops,restaurant,...</td>\n",
       "      <td>58512</td>\n",
       "      <td>Q</td>\n",
       "      <td>NaN</td>\n",
       "      <td>Grandview-Woodland</td>\n",
       "      <td>49.263390</td>\n",
       "      <td>-123.071450</td>\n",
       "      <td>Entire home/apt</td>\n",
       "      <td>NaN</td>\n",
       "      <td>...</td>\n",
       "      <td>0.03</td>\n",
       "      <td>5</td>\n",
       "      <td>89</td>\n",
       "      <td>0</td>\n",
       "      <td>NaN</td>\n",
       "      <td>NaN</td>\n",
       "      <td>2700.0</td>\n",
       "      <td>False</td>\n",
       "      <td>False</td>\n",
       "      <td>False</td>\n",
       "    </tr>\n",
       "    <tr>\n",
       "      <th>4</th>\n",
       "      <td>17765</td>\n",
       "      <td>Central location, nice little apartment</td>\n",
       "      <td>68672</td>\n",
       "      <td>James</td>\n",
       "      <td>NaN</td>\n",
       "      <td>Mount Pleasant</td>\n",
       "      <td>49.261320</td>\n",
       "      <td>-123.108450</td>\n",
       "      <td>Entire home/apt</td>\n",
       "      <td>NaN</td>\n",
       "      <td>...</td>\n",
       "      <td>1.32</td>\n",
       "      <td>1</td>\n",
       "      <td>0</td>\n",
       "      <td>0</td>\n",
       "      <td>Municipal registration number: 21-156705</td>\n",
       "      <td>NaN</td>\n",
       "      <td>1377.0</td>\n",
       "      <td>False</td>\n",
       "      <td>False</td>\n",
       "      <td>False</td>\n",
       "    </tr>\n",
       "  </tbody>\n",
       "</table>\n",
       "<p>5 rows × 23 columns</p>\n",
       "</div>"
      ],
      "text/plain": [
       "      id                                               name  host_id  \\\n",
       "0  13188                  Garden level studio in ideal loc.    51466   \n",
       "1  13358                            Downtown Designer suite    52116   \n",
       "2  16254      Close to PNE/Hastings Park Garden level suite    63238   \n",
       "3  16611  1 block to skytrain station, shops,restaurant,...    58512   \n",
       "4  17765            Central location, nice little apartment    68672   \n",
       "\n",
       "  host_name  neighbourhood_group       neighbourhood   latitude   longitude  \\\n",
       "0      Emma                  NaN          Riley Park  49.247730 -123.105090   \n",
       "1      Lynn                  NaN            Downtown  49.281174 -123.125931   \n",
       "2     Jason                  NaN    Hastings-Sunrise  49.277210 -123.040860   \n",
       "3         Q                  NaN  Grandview-Woodland  49.263390 -123.071450   \n",
       "4     James                  NaN      Mount Pleasant  49.261320 -123.108450   \n",
       "\n",
       "         room_type  price  ...  reviews_per_month  \\\n",
       "0  Entire home/apt  136.0  ...               1.89   \n",
       "1  Entire home/apt  225.0  ...               3.11   \n",
       "2  Entire home/apt  680.0  ...               0.09   \n",
       "3  Entire home/apt    NaN  ...               0.03   \n",
       "4  Entire home/apt    NaN  ...               1.32   \n",
       "\n",
       "   calculated_host_listings_count availability_365  number_of_reviews_ltm  \\\n",
       "0                               1              109                     56   \n",
       "1                               1              135                     50   \n",
       "2                               1              249                      0   \n",
       "3                               5               89                      0   \n",
       "4                               1                0                      0   \n",
       "\n",
       "                                             license  price_log  \\\n",
       "0  Municipal registration number: 25-156058<br />...   4.919981   \n",
       "1           Municipal registration number: 25-157257   5.420535   \n",
       "2                                                NaN   6.523562   \n",
       "3                                                NaN        NaN   \n",
       "4           Municipal registration number: 21-156705        NaN   \n",
       "\n",
       "   days_since_last_review room_type_Hotel room  room_type_Private room  \\\n",
       "0                    66.0                False                   False   \n",
       "1                    66.0                False                   False   \n",
       "2                  1075.0                False                   False   \n",
       "3                  2700.0                False                   False   \n",
       "4                  1377.0                False                   False   \n",
       "\n",
       "   room_type_Shared room  \n",
       "0                  False  \n",
       "1                  False  \n",
       "2                  False  \n",
       "3                  False  \n",
       "4                  False  \n",
       "\n",
       "[5 rows x 23 columns]"
      ]
     },
     "execution_count": 11,
     "metadata": {},
     "output_type": "execute_result"
    }
   ],
   "source": [
    "import pandas as pd\n",
    "\n",
    "df = pd.read_csv('../data/processed/featured_listings.csv')\n",
    "print(f\"Loaded data with shape: {df.shape}\")\n",
    "df.head()"
   ]
  },
  {
   "cell_type": "markdown",
   "metadata": {},
   "source": [
    "### Step 2 – Define Target + Features"
   ]
  },
  {
   "cell_type": "code",
   "execution_count": 12,
   "metadata": {},
   "outputs": [],
   "source": [
    "target = 'price'\n",
    "\n",
    "# Drop columns that shouldn't be used in modeling\n",
    "drop_cols = ['id', 'name', 'host_id', 'host_name', 'last_review', 'license']\n",
    "df = df.drop(columns=[col for col in drop_cols if col in df.columns])\n",
    "\n",
    "# Drop rows with missing price or extreme values (if needed)\n",
    "df = df[df[target].notnull() & (df[target] > 0)]"
   ]
  },
  {
   "cell_type": "markdown",
   "metadata": {},
   "source": [
    "### Step 3 – Train/Test Split"
   ]
  },
  {
   "cell_type": "code",
   "execution_count": 14,
   "metadata": {},
   "outputs": [
    {
     "name": "stdout",
     "output_type": "stream",
     "text": [
      "Training rows: 3667 | Test rows: 917\n"
     ]
    }
   ],
   "source": [
    "from sklearn.model_selection import train_test_split\n",
    "\n",
    "X = df.drop(columns=[target])\n",
    "y = df[target]\n",
    "\n",
    "X_train, X_test, y_train, y_test = train_test_split(X, y, test_size=0.2, random_state=42)\n",
    "print(f\"Training rows: {X_train.shape[0]} | Test rows: {X_test.shape[0]}\")\n"
   ]
  },
  {
   "cell_type": "code",
   "execution_count": null,
   "metadata": {},
   "outputs": [],
   "source": []
  }
 ],
 "metadata": {
  "kernelspec": {
   "display_name": "Python 3",
   "language": "python",
   "name": "python3"
  },
  "language_info": {
   "codemirror_mode": {
    "name": "ipython",
    "version": 3
   },
   "file_extension": ".py",
   "mimetype": "text/x-python",
   "name": "python",
   "nbconvert_exporter": "python",
   "pygments_lexer": "ipython3",
   "version": "3.12.2"
  }
 },
 "nbformat": 4,
 "nbformat_minor": 2
}
