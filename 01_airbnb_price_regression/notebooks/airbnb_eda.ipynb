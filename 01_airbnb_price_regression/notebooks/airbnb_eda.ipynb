{
 "cells": [
  {
   "cell_type": "markdown",
   "id": "28a140ab",
   "metadata": {},
   "source": [
    "# 🏠 Airbnb Price Prediction - EDA\n",
    "This notebook performs initial exploratory data analysis on the Airbnb dataset."
   ]
  },
  {
   "cell_type": "code",
   "execution_count": null,
   "id": "e8518b93",
   "metadata": {},
   "outputs": [],
   "source": [
    "# Step 1: Import libraries\n",
    "# We import Python libraries that help with:\n",
    "#- Reading and working with data (`pandas`, `numpy`)\n",
    "#- Plotting (`matplotlib`, `seaborn`)\n",
    "#- Setting options to view more columns\n",

    "import pandas as pd\n",
    "import numpy as np\n",
    "import matplotlib.pyplot as plt\n",
    "import seaborn as sns\n",
    "\n",
    "pd.set_option('display.max_columns', 100)\n",
    "sns.set(style='whitegrid')"
   ]
  },
  {
   "cell_type": "code",
   "execution_count": null,
   "id": "5340d3b3",
   "metadata": {},
   "outputs": [],
   "source": [
    "# Step 2: Load the dataset\n",
    "df = pd.read_csv('data/raw/listings.csv')\n",
    "df.head()"
   ]
  },
  {
   "cell_type": "code",
   "execution_count": null,
   "id": "f5a2fe9f",
   "metadata": {},
   "outputs": [],
   "source": [
    "# Step 3: Data overview\n",
    "print(\"Shape:\", df.shape)\n",
    "print(\"\\nData Types:\\n\", df.dtypes)"
   ]
  },
  {
   "cell_type": "code",
   "execution_count": null,
   "id": "6a6f9896",
   "metadata": {},
   "outputs": [],
   "source": [
    "# Step 4: Check missing values\n",
    "df.isnull().sum().sort_values(ascending=False).head(15)"
   ]
  },
  {
   "cell_type": "code",
   "execution_count": null,
   "id": "f6284871",
   "metadata": {},
   "outputs": [],
   "source": [
    "# Step 5: Price distribution\n",
    "plt.figure(figsize=(10, 5))\n",
    "sns.histplot(df['price'], bins=100, kde=True)\n",
    "plt.title('Distribution of Price (Raw)')\n",
    "plt.xlabel('Price')\n",
    "plt.show()"
   ]
  },
  {
   "cell_type": "code",
   "execution_count": null,
   "id": "77461526",
   "metadata": {},
   "outputs": [],
   "source": [
    "# Step 6: Log-transformed price (optional)\n",
    "df['price_log'] = np.log1p(df['price'])\n",
    "sns.histplot(df['price_log'], bins=50)\n",
    "plt.title('Distribution of Log-Transformed Price')\n",
    "plt.show()"
   ]
  }
 ],
 "metadata": {
  "language_info": {
   "name": "python"
  }
 },
 "nbformat": 4,
 "nbformat_minor": 5
}
