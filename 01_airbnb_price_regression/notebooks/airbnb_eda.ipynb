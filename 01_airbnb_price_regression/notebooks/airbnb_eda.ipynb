# 📘 airbnb_eda.ipynb
# Step 1: Import libraries
import pandas as pd
import numpy as np
import matplotlib.pyplot as plt
import seaborn as sns

# Settings
pd.set_option('display.max_columns', 100)
sns.set(style='whitegrid')

# Step 2: Load the dataset
# 🔁 Replace the file path if you renamed it
df = pd.read_csv('../data/raw/listings.csv')  # or listings.csv.gz

# Step 3: Preview the data
df.head()

# Step 4: Check shape and types
print("Shape:", df.shape)
print("\nData Types:\n", df.dtypes)

# Step 5: Check missing values
df.isnull().sum().sort_values(ascending=False).head(15)

# Step 6: Check price distribution
plt.figure(figsize=(10,5))
sns.histplot(df['price'], bins=100, kde=True)
plt.title('Distribution of Price (Raw)')
plt.xlabel('Price')
plt.show()

# Optional: Log-transform the price for skewed distributions
df['price_log'] = np.log1p(df['price'])
sns.histplot(df['price_log'], bins=50)
plt.title('Distribution of Log-Transformed Price')
plt.show()
