{
  "cells": [
    {
      "cell_type": "markdown",
      "id": "28a140ab",
      "metadata": {
        "id": "28a140ab"
      },
      "source": [
        "# 🏠 Airbnb Price Prediction - EDA\n",
        "This notebook performs initial exploratory data analysis on the Airbnb dataset."
      ]
    },
    {
      "cell_type": "code",
      "execution_count": null,
      "id": "4F4vMpXt8xWL",
      "metadata": {
        "id": "4F4vMpXt8xWL"
      },
      "outputs": [],
      "source": [
        "# Setup: Clone repo and set working directory\n",
        "# This allows anyone opening this notebook in Colab to access all project files\n",
        "!git clone https://github.com/babakbaradaran/ml-projects.git\n",
        "%cd ml-projects/01_airbnb_price_regression/"
      ]
    },
    {
      "cell_type": "code",
      "execution_count": null,
      "id": "e8518b93",
      "metadata": {
        "id": "e8518b93"
      },
      "outputs": [],
      "source": [
        "# Step 1: Import libraries\n",
        "# We import Python libraries that help with:\n",
        "#- Reading and working with data (`pandas`, `numpy`)\n",
        "#- Plotting (`matplotlib`, `seaborn`)\n",
        "#- Setting options to view more columns\n",
        "import pandas as pd\n",
        "import numpy as np\n",
        "import matplotlib.pyplot as plt\n",
        "import seaborn as sns\n",
        "\n",
        "pd.set_option('display.max_columns', 100)\n",
        "sns.set(style='whitegrid')"
      ]
    },
    {
      "cell_type": "markdown",
      "id": "8d2d3b52",
      "metadata": {},
      "source": [
        "## Dataset Validation and Setup\n",
        "\n",
        "We begin by verifying the dataset path and loading it safely. This helps avoid runtime errors in environments like Google Colab or Codespaces."
      ]
    },
    {
      "cell_type": "code",
      "execution_count": null,
      "id": "64c2ca44",
      "metadata": {},
      "outputs": [],
      "source": [
        "# Load Dataset with Validations\n",
        "import os\n",
        "\n",
        "# Set the data path\n",
        "data_path = 'data/raw/listings.csv'\n",
        "\n",
        "# Check if file exists\n",
        "assert os.path.exists(data_path), f\"Data file not found at: {data_path}\"\n",
        "\n",
        "# Load the data\n",
        "df = pd.read_csv(data_path)\n",
        "\n",
        "# Confirm it loaded\n",
        "print(f\"Loaded successfully. Shape: {df.shape}\")\n",
        "df.sample(5)"
      ]
    },
    {
      "cell_type": "code",
      "execution_count": null,
      "id": "5340d3b3",
      "metadata": {
        "id": "5340d3b3"
      },
      "outputs": [],
      "source": [
        "# Step 2: Load the dataset\n",
        "df = pd.read_csv('data/raw/listings.csv')\n",
        "df.head()"
      ]
    },
    {
      "cell_type": "code",
      "execution_count": null,
      "id": "f5a2fe9f",
      "metadata": {
        "id": "f5a2fe9f"
      },
      "outputs": [],
      "source": [
        "# Step 3: Data overview\n",
        "print(\"Shape:\", df.shape)\n",
        "print(\"\\nData Types:\\n\", df.dtypes)"
      ]
    },
    {
      "cell_type": "code",
      "execution_count": null,
      "id": "c5c890a8",
      "metadata": {},
      "outputs": [],
      "source": [
        "# Step 4: Summary Table for All Columns\n",
        "summary = pd.DataFrame({\n",
        "    \"Data Type\": df.dtypes,\n",
        "    \"% Missing\": df.isnull().mean() * 100,\n",
        "    \"# Unique\": df.nunique(),\n",
        "    \"Sample Values\": df.apply(lambda x: x.dropna().unique()[:3])\n",
        "}).sort_values(\"% Missing\", ascending=False)\n",
        "\n",
        "summary.style.background_gradient(cmap='Blues', subset=[\"% Missing\"])\n"
      ]
    },
    {
      "cell_type": "code",
      "execution_count": null,
      "id": "3c789a93",
      "metadata": {},
      "outputs": [],
      "source": [
        "# Section 5: Clean Currency Columns\n",
        "currency_cols = ['price', 'security_deposit', 'cleaning_fee']\n",
        "for col in currency_cols:\n",
        "    df[col] = df[col].replace('[\\$,]', '', regex=True).astype(float)"
      ]
    },
    {
      "cell_type": "code",
      "execution_count": null,
      "id": "efc37e88",
      "metadata": {},
      "outputs": [],
      "source": [
        "# Section 6: Correlation with price\n",
        "corr = df.corr(numeric_only=True)\n",
        "corr_price = corr['price'].sort_values(ascending=False)\n",
        "\n",
        "plt.figure(figsize=(10, 4))\n",
        "sns.barplot(x=corr_price.values, y=corr_price.index)\n",
        "plt.title('Correlation with Price')\n",
        "plt.show()\n"
      ]
    },
    {
      "cell_type": "code",
      "execution_count": null,
      "id": "6a6f9896",
      "metadata": {
        "id": "6a6f9896"
      },
      "outputs": [],
      "source": [
        "# Step 7: Check missing values\n",
        "df.isnull().sum().sort_values(ascending=False).head(15)"
      ]
    },
    {
      "cell_type": "code",
      "execution_count": null,
      "id": "f6284871",
      "metadata": {
        "id": "f6284871"
      },
      "outputs": [],
      "source": [
        "# Step 8: Price distribution\n",
        "plt.figure(figsize=(10, 5))\n",
        "sns.histplot(df['price'], bins=100, kde=True)\n",
        "plt.title('Distribution of Price (Raw)')\n",
        "plt.xlabel('Price')\n",
        "plt.show()"
      ]
    },
    {
      "cell_type": "code",
      "execution_count": null,
      "id": "77461526",
      "metadata": {
        "id": "77461526"
      },
      "outputs": [],
      "source": [
        "# Step 9: Log-transformed price (optional)\n",
        "df['price_log'] = np.log1p(df['price'])\n",
        "sns.histplot(df['price_log'], bins=50)\n",
        "plt.title('Distribution of Log-Transformed Price')\n",
        "plt.show()"
      ]
    }
  ],
  "metadata": {
    "colab": {
      "provenance": []
    },
    "kernelspec": {
      "display_name": "Python 3",
      "name": "python3"
    },
    "language_info": {
      "name": "python",
      "version": "3.12.2"
    }
  },
  "nbformat": 4,
  "nbformat_minor": 5
}
